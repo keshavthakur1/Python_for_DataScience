{
 "cells": [
  {
   "cell_type": "markdown",
   "id": "355af275",
   "metadata": {},
   "source": [
    "Syntax and Semantics in python \n",
    "\n",
    "outline \n",
    "\n",
    "\n",
    "** Single line comments and multiline comment \n",
    " Defination of syntax and semantics \n",
    " Basic syntax rule in python \n",
    " Understanding semantics in python \n",
    " common error and how to avaoid them \n",
    " Pratical code example**\n",
    "\n"
   ]
  },
  {
   "cell_type": "markdown",
   "id": "610c5ef8",
   "metadata": {},
   "source": [
    "Syntax refer to a set of rule to difines the comibination of symbolic that are consided to structured programs into a language. In simpler term, syntax is about the correct argument of word and symbols in a code \n"
   ]
  },
  {
   "cell_type": "markdown",
   "id": "52d51609",
   "metadata": {},
   "source": [
    "Semantics refers to the meaning or the interpretation of the symbols, character, and commands in a language. it is about what the code is supposed to do when it runs."
   ]
  },
  {
   "cell_type": "code",
   "execution_count": 1,
   "id": "713c9f65",
   "metadata": {},
   "outputs": [
    {
     "name": "stdout",
     "output_type": "stream",
     "text": [
      "keshav\n"
     ]
    }
   ],
   "source": [
    "##Basic syntax\n",
    "#case sensitivity  python is case sensistive\n",
    "\n",
    "name =\"keshav\"\n",
    "print(name)"
   ]
  },
  {
   "cell_type": "markdown",
   "id": "9e35d205",
   "metadata": {},
   "source": [
    "##Indentation\n",
    "Indentation in python is used to define the structure and hierarchy of the code. UNlike many other programing language that use braces{} to delimit the code python code uses indentation to determine the grouping of statement. this mean that all the statement withinn a block must be indented at the same level."
   ]
  },
  {
   "cell_type": "code",
   "execution_count": null,
   "id": "14dc318e",
   "metadata": {},
   "outputs": [
    {
     "name": "stdout",
     "output_type": "stream",
     "text": [
      "False\n"
     ]
    }
   ],
   "source": [
    "#indentation\n",
    "#python uses indentation to define of code. consident use of space (commently 4) or a tab is required \n",
    "\n",
    "age =int(input(\"enter the age\"))   # way to take input in python \n",
    "if age > 32:\n",
    "    print(True)\n",
    "else:\n",
    "    print(False)"
   ]
  },
  {
   "cell_type": "code",
   "execution_count": null,
   "id": "7abc5542",
   "metadata": {},
   "outputs": [
    {
     "name": "stdout",
     "output_type": "stream",
     "text": [
      "<class 'str'>\n"
     ]
    }
   ],
   "source": [
    "#understanding semantics in python \n",
    "#variable assigment\n",
    "age = 32    # in  python no to represent data type like in other for in cpp int age =32 python automatically understand \n",
    "name =\"keshav\"\n",
    "print(type(name))"
   ]
  },
  {
   "cell_type": "code",
   "execution_count": 13,
   "id": "b8db29b9",
   "metadata": {},
   "outputs": [
    {
     "name": "stdout",
     "output_type": "stream",
     "text": [
      "34\n"
     ]
    }
   ],
   "source": [
    "age = int(input(\"Enter the age:\"))\n",
    "if age >32:\n",
    "    print(age)"
   ]
  },
  {
   "cell_type": "code",
   "execution_count": 10,
   "id": "a4ae0be3",
   "metadata": {},
   "outputs": [
    {
     "name": "stdout",
     "output_type": "stream",
     "text": [
      "<class 'int'>\n",
      "<class 'str'>\n"
     ]
    }
   ],
   "source": [
    "# Python Example: Demonstrating Dynamic Typing\n",
    "\n",
    "# Step 1: Assign an integer value to the variable\n",
    "variable = 10\n",
    "\n",
    "# At this point, Python infers the type of 'variable' as 'int'\n",
    "# Python is dynamically typed, so you don't need to declare the type\n",
    "print(type(variable))  # Output: <class 'int'>\n",
    "\n",
    "# Step 2: Reassign a string value to the same variable\n",
    "variable = \"keshav\"\n",
    "\n",
    "# Now, 'variable' holds a string, so its type changes to 'str'\n",
    "# Python allows this because it checks the type at runtime (dynamic typing)\n",
    "print(type(variable))  # Output: <class 'str'>\n"
   ]
  },
  {
   "cell_type": "code",
   "execution_count": 11,
   "id": "29efb970",
   "metadata": {},
   "outputs": [
    {
     "name": "stdout",
     "output_type": "stream",
     "text": [
      "correct Indentation\n",
      "This will print \n",
      "outside the if block \n"
     ]
    }
   ],
   "source": [
    "#code example of indentation \n",
    "if True:\n",
    "    print(\"correct Indentation\")\n",
    "    if False:\n",
    "        print(\"This out print\")\n",
    "    print(\"This will print \")\n",
    "print(\"outside the if block \")  #if True: → Block will execute,,if False: → Block will be skipped\n",
    "\n"
   ]
  },
  {
   "cell_type": "code",
   "execution_count": 18,
   "id": "fb505abd",
   "metadata": {},
   "outputs": [],
   "source": [
    "# a =b \n",
    "# print(a)  # one more synatx error bcz name b is not deined we will learn how handle its in exceptional handling \n"
   ]
  },
  {
   "cell_type": "code",
   "execution_count": 23,
   "id": "060709b7",
   "metadata": {},
   "outputs": [
    {
     "name": "stdout",
     "output_type": "stream",
     "text": [
      "11 <class 'int'>\n"
     ]
    }
   ],
   "source": [
    "Age = int (input(\" Enter the number\"))\n",
    "print(age, type(Age))"
   ]
  },
  {
   "cell_type": "markdown",
   "id": "e70d3f5c",
   "metadata": {},
   "source": [
    "###    Conclusion\n"
   ]
  },
  {
   "cell_type": "markdown",
   "id": "4488fbe8",
   "metadata": {},
   "source": [
    "Understanding the syntax and semantics of Python is crucial for writing correct and meaningful programs. Syntax ensures the code is properly structured, while semantics ensures the code behaves as expected. Mastering these concepts will help in writing efficient and error-free Python code."
   ]
  }
 ],
 "metadata": {
  "kernelspec": {
   "display_name": "Python 3",
   "language": "python",
   "name": "python3"
  },
  "language_info": {
   "codemirror_mode": {
    "name": "ipython",
    "version": 3
   },
   "file_extension": ".py",
   "mimetype": "text/x-python",
   "name": "python",
   "nbconvert_exporter": "python",
   "pygments_lexer": "ipython3",
   "version": "3.13.4"
  }
 },
 "nbformat": 4,
 "nbformat_minor": 5
}
