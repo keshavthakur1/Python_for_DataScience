{
 "cells": [
  {
   "cell_type": "markdown",
   "id": "79221e40",
   "metadata": {},
   "source": [
    "### Variable\n",
    "Variables are fundamental elements in programming used to store data that can be referenced and manipulated in a program. In Python, variables are created when you assign a value to them, and they do not need explicit declaration to reserve memory space. The declaration happens automatically when you assign a value to a variable."
   ]
  },
  {
   "cell_type": "markdown",
   "id": "cdb65700",
   "metadata": {},
   "source": [
    "\n",
    "### Outline:\n",
    "\n",
    " Introduction to Variables\n",
    "\n",
    " Declaring and Assigning Variables\n",
    "\n",
    " Naming Conventions\n",
    "\n",
    " Understanding Variable Types\n",
    "\n",
    " Type Checking and Conversion\n",
    "\n",
    " Dynamic Typing\n",
    " \n",
    " Practical Examples and Common Errors"
   ]
  },
  {
   "cell_type": "code",
   "execution_count": 2,
   "id": "bfa8f23b",
   "metadata": {},
   "outputs": [
    {
     "name": "stdout",
     "output_type": "stream",
     "text": [
      "100\n",
      "<class 'int'>\n"
     ]
    }
   ],
   "source": [
    "a =100\n",
    "print(a)\n",
    "print(type(a))"
   ]
  },
  {
   "cell_type": "code",
   "execution_count": 7,
   "id": "15fc6d3c",
   "metadata": {},
   "outputs": [
    {
     "name": "stdout",
     "output_type": "stream",
     "text": [
      "0\n",
      "<class 'int'>\n",
      "age: 32\n",
      "height: 6.1\n",
      "name: Keshav\n",
      "is_student: True\n"
     ]
    }
   ],
   "source": [
    "#Declearing and assiging value of variable \n",
    "age =32\n",
    "height =6.1\n",
    "name =\"Keshav\"\n",
    "is_student=True\n",
    "IS_CLASS=0\n",
    "print(IS_CLASS)\n",
    "print(type(IS_CLASS))\n",
    "print(\"age:\", age)\n",
    "print(\"height:\", height)\n",
    "print(\"name:\", name)\n",
    "print(\"is_student:\", is_student)"
   ]
  },
  {
   "cell_type": "code",
   "execution_count": null,
   "id": "25b6648a",
   "metadata": {},
   "outputs": [],
   "source": [
    "#naming conventions\n",
    "#variable name should be discriptive \n",
    "## They must start with a letter or an '_' and contains letter , numbers and underscores \n",
    "# variable name is case sensitive \n",
    "\n",
    "#valid variable name \n",
    "first_name =\"keshav\"\n",
    "last_name = \"Thakur\"\n",
    "\n",
    "\n",
    "\n",
    "\n"
   ]
  },
  {
   "cell_type": "code",
   "execution_count": 9,
   "id": "f49e3d8d",
   "metadata": {},
   "outputs": [
    {
     "ename": "SyntaxError",
     "evalue": "invalid decimal literal (3642980482.py, line 2)",
     "output_type": "error",
     "traceback": [
      "  \u001b[36mCell\u001b[39m\u001b[36m \u001b[39m\u001b[32mIn[9]\u001b[39m\u001b[32m, line 2\u001b[39m\n\u001b[31m    \u001b[39m\u001b[31m2age =34\u001b[39m\n    ^\n\u001b[31mSyntaxError\u001b[39m\u001b[31m:\u001b[39m invalid decimal literal\n"
     ]
    }
   ],
   "source": [
    "#invalid variable name \n",
    "2age =34\n",
    "@name =\"abhi\"\n"
   ]
  },
  {
   "cell_type": "code",
   "execution_count": null,
   "id": "f37b3b8d",
   "metadata": {},
   "outputs": [],
   "source": [
    "#Understanding variable types\n",
    "# python is dynamically typed, type of a variable is detrmined ata runtime \n",
    "\n",
    "###Dynamically typed: No need to declare data types explicitly.\n",
    "\n",
    "###Type changes allowed: The same variable can hold different types of data at different times.\n",
    "\n",
    "###Checked at runtime: Python checks the type of variable when the program runs, not before.\n",
    "\n",
    "\n",
    "# Python is dynamically typed, so you don't need to declare the type of a variable\n",
    "\n",
    "variable = 42              # Python automatically assigns 'int' type\n",
    "print(type(variable))      # Output: <class 'int'>\n",
    "\n",
    "variable = \"Keshav\"         # Reassigning a string value to the same variable\n",
    "print(type(variable))      # Output: <class 'str'>\n"
   ]
  },
  {
   "cell_type": "code",
   "execution_count": 12,
   "id": "4c18daef",
   "metadata": {},
   "outputs": [
    {
     "name": "stdout",
     "output_type": "stream",
     "text": [
      "<class 'int'>\n"
     ]
    }
   ],
   "source": [
    "#Type checking and conversion \n",
    "age = 25\n",
    "print(type(age))\n"
   ]
  },
  {
   "cell_type": "code",
   "execution_count": 14,
   "id": "40117adb",
   "metadata": {},
   "outputs": [
    {
     "name": "stdout",
     "output_type": "stream",
     "text": [
      "25\n",
      "<class 'str'>\n"
     ]
    }
   ],
   "source": [
    "int_to_str =str(age)\n",
    "print(int_to_str)\n",
    "print(type(int_to_str))"
   ]
  },
  {
   "cell_type": "code",
   "execution_count": null,
   "id": "6acf9cb8",
   "metadata": {},
   "outputs": [
    {
     "name": "stdout",
     "output_type": "stream",
     "text": [
      "<class 'str'>\n"
     ]
    },
    {
     "ename": "ValueError",
     "evalue": "invalid literal for int() with base 10: 'mr bist'",
     "output_type": "error",
     "traceback": [
      "\u001b[31m---------------------------------------------------------------------------\u001b[39m",
      "\u001b[31mValueError\u001b[39m                                Traceback (most recent call last)",
      "\u001b[36mCell\u001b[39m\u001b[36m \u001b[39m\u001b[32mIn[16]\u001b[39m\u001b[32m, line 3\u001b[39m\n\u001b[32m      1\u001b[39m first_name =\u001b[33m\"\u001b[39m\u001b[33mmr bist\u001b[39m\u001b[33m\"\u001b[39m\n\u001b[32m      2\u001b[39m \u001b[38;5;28mprint\u001b[39m(\u001b[38;5;28mtype\u001b[39m(first_name))\n\u001b[32m----> \u001b[39m\u001b[32m3\u001b[39m str_to_int =\u001b[38;5;28;43mint\u001b[39;49m\u001b[43m(\u001b[49m\u001b[43mfirst_name\u001b[49m\u001b[43m)\u001b[49m\n\u001b[32m      4\u001b[39m \u001b[38;5;28mprint\u001b[39m(str_to_int)\n",
      "\u001b[31mValueError\u001b[39m: invalid literal for int() with base 10: 'mr bist'"
     ]
    }
   ],
   "source": [
    "first_name =\"mr bist\"\n",
    "print(type(first_name))\n",
    "str_to_int =int(first_name)\n",
    "print(str_to_int)   #Concept Recap: You can convert a string to an integer only if it contains digits only.\n",
    "\n",
    "# Strings with letters, symbols, or spaces will raise a ValueError.  we studty in exceptional handling how to handle \n",
    "\n"
   ]
  },
  {
   "cell_type": "code",
   "execution_count": 18,
   "id": "db119646",
   "metadata": {},
   "outputs": [
    {
     "name": "stdout",
     "output_type": "stream",
     "text": [
      "add: 88\n",
      "sub: -20\n",
      "mul: 1836\n",
      "div: 0.6296296296296297\n"
     ]
    }
   ],
   "source": [
    "#simple calculator \n",
    "num1 = int(input(\"Enter the num1:\"))\n",
    "num2 = int(input(\"Enter the num2:\"))\n",
    "\n",
    "add =num1+num2\n",
    "sub=num1-num2\n",
    "mul=num1*num2\n",
    "div =num1/num2\n",
    "\n",
    "print(\"add:\", add)\n",
    "print(\"sub:\", sub)\n",
    "print(\"mul:\", mul)\n",
    "print(\"div:\", div)"
   ]
  },
  {
   "cell_type": "markdown",
   "id": "4dce0356",
   "metadata": {},
   "source": [
    "### Conclusion:\n",
    "Variables are essential in Python programming for storing and manipulating data. Understanding how to declare, assign, and use variables effectively is crucial for writing functional and efficient code. Following proper naming conventions and understanding variable types will help in maintaining readability and consistency in your code."
   ]
  }
 ],
 "metadata": {
  "kernelspec": {
   "display_name": "Python 3",
   "language": "python",
   "name": "python3"
  },
  "language_info": {
   "codemirror_mode": {
    "name": "ipython",
    "version": 3
   },
   "file_extension": ".py",
   "mimetype": "text/x-python",
   "name": "python",
   "nbconvert_exporter": "python",
   "pygments_lexer": "ipython3",
   "version": "3.13.4"
  }
 },
 "nbformat": 4,
 "nbformat_minor": 5
}
