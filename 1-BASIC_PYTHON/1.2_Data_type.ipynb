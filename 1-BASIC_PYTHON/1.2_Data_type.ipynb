{
 "cells": [
  {
   "cell_type": "markdown",
   "id": "e87f11c9",
   "metadata": {},
   "source": [
    "### DataTypes\n",
    "1. Definition:\n",
    "Data types are a classification of data which tell the compiler or interpreter how the programmer intends to use the data.\n",
    "They determine the type of operations that can be performed on the data, the values that the data can take, and the amount of memory needed to store the data.\n",
    "\n",
    "2. Importance of Data Types in Programming\n",
    "\n",
    "Explanation:\n",
    "\n",
    " Data types ensure that data is stored in an efficient way.\n",
    " They help in performing correct operations on data.\n",
    "Proper use of data types can prevent errors and bugs in the program.\n",
    "\n",
    "### Outline:\n",
    "\n",
    "Introduction to Data Types\n",
    "Importance of Data Types in Programming\n",
    "Basic Data Types\n",
    "Integers\n",
    "Floating-point numbers\n",
    "Strings\n",
    "Booleans\n",
    "Advanced Data Types\n",
    "Lists\n",
    "Tuples\n",
    "Sets\n",
    "Dictionaries\n",
    "Type Conversion\n",
    "Practical Examples"
   ]
  },
  {
   "cell_type": "code",
   "execution_count": null,
   "id": "1e155480",
   "metadata": {},
   "outputs": [],
   "source": [
    "# allready discuss in variable almost all the data type in build will disscuss later\n"
   ]
  },
  {
   "cell_type": "code",
   "execution_count": 3,
   "id": "3465d7ba",
   "metadata": {},
   "outputs": [
    {
     "data": {
      "text/plain": [
       "bool"
      ]
     },
     "execution_count": 3,
     "metadata": {},
     "output_type": "execute_result"
    }
   ],
   "source": [
    "a = 4\n",
    "b =6\n",
    "type(a==b)"
   ]
  },
  {
   "cell_type": "code",
   "execution_count": 6,
   "id": "71677191",
   "metadata": {},
   "outputs": [
    {
     "ename": "TypeError",
     "evalue": "can only concatenate str (not \"int\") to str",
     "output_type": "error",
     "traceback": [
      "\u001b[31m---------------------------------------------------------------------------\u001b[39m",
      "\u001b[31mTypeError\u001b[39m                                 Traceback (most recent call last)",
      "\u001b[36mCell\u001b[39m\u001b[36m \u001b[39m\u001b[32mIn[6]\u001b[39m\u001b[32m, line 2\u001b[39m\n\u001b[32m      1\u001b[39m \u001b[38;5;66;03m#common error \u001b[39;00m\n\u001b[32m----> \u001b[39m\u001b[32m2\u001b[39m result = \u001b[33;43m\"\u001b[39;49m\u001b[33;43mhello \u001b[39;49m\u001b[33;43m\"\u001b[39;49m\u001b[43m  \u001b[49m\u001b[43m+\u001b[49m\u001b[43m \u001b[49m\u001b[32;43m5\u001b[39;49m \n\u001b[32m      3\u001b[39m \u001b[38;5;28mprint\u001b[39m(result)  \u001b[38;5;66;03m# only concantenate string \u001b[39;00m\n",
      "\u001b[31mTypeError\u001b[39m: can only concatenate str (not \"int\") to str"
     ]
    }
   ],
   "source": [
    "#common error \n",
    "result = \"hello \"  + 5 \n",
    "print(result)  # only concantenate string "
   ]
  },
  {
   "cell_type": "code",
   "execution_count": 8,
   "id": "ade607a4",
   "metadata": {},
   "outputs": [
    {
     "name": "stdout",
     "output_type": "stream",
     "text": [
      "hero honda\n"
     ]
    }
   ],
   "source": [
    "result_new =\"hero\"+ \" honda\"\n",
    "print(result_new)"
   ]
  }
 ],
 "metadata": {
  "kernelspec": {
   "display_name": "Python 3",
   "language": "python",
   "name": "python3"
  },
  "language_info": {
   "codemirror_mode": {
    "name": "ipython",
    "version": 3
   },
   "file_extension": ".py",
   "mimetype": "text/x-python",
   "name": "python",
   "nbconvert_exporter": "python",
   "pygments_lexer": "ipython3",
   "version": "3.13.4"
  }
 },
 "nbformat": 4,
 "nbformat_minor": 5
}
