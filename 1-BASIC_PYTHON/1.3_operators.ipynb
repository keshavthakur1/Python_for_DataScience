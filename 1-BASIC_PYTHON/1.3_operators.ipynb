{
 "cells": [
  {
   "cell_type": "markdown",
   "id": "7c87098d",
   "metadata": {},
   "source": [
    "### Deep drive into operators "
   ]
  },
  {
   "cell_type": "markdown",
   "id": "222192c5",
   "metadata": {},
   "source": [
    "### Outline\n"
   ]
  },
  {
   "cell_type": "markdown",
   "id": "4ea4fba3",
   "metadata": {},
   "source": [
    "1. Indroduction to operators\n",
    "## Arithematic Operators\n",
    "Addition\n",
    "\n",
    "Subtraction\n",
    "\n",
    "Multiplication\n",
    "\n",
    "Division\n",
    "\n",
    "Floor Division\n",
    "\n",
    "Modulus\n",
    "\n",
    "Exponentiation\n",
    "## Comparison Operators\n",
    "Equal to\n",
    "\n",
    "Not equal to\n",
    "\n",
    "Greater than\n",
    "\n",
    "Less than\n",
    "\n",
    "Greater than or equal to\n",
    "\n",
    "Less than or equal to\n",
    "\n",
    "## Logical Operators\n",
    "AND\n",
    "\n",
    "OR\n",
    "\n",
    "NOT\n",
    "\n",
    "Practical Examples and Common Errors"
   ]
  },
  {
   "cell_type": "code",
   "execution_count": 1,
   "id": "b12d0069",
   "metadata": {},
   "outputs": [
    {
     "name": "stdout",
     "output_type": "stream",
     "text": [
      "ADD: 15\n",
      "5\n",
      "50\n",
      "2.0\n",
      "2\n",
      "0\n",
      "100000\n"
     ]
    }
   ],
   "source": [
    "## Arithmethic Operation\n",
    "\n",
    "a=10\n",
    "b = 5\n",
    "\n",
    "add_result=a+b  #addiiton\n",
    "sub_result=a-b  #substraction \n",
    "mult_result=a*b #multiplication\n",
    "div_result=a/b  #division\n",
    "floor_div_result=a//b ## floor division\n",
    "modulus_result=a%b #modulus operation\n",
    "\n",
    "exponent_result=a**b ## Exponentiation\n",
    "\n",
    "\n",
    "print(\"ADD:\", add_result)\n",
    "print(sub_result)\n",
    "print(mult_result)\n",
    "print(div_result)\n",
    "print(floor_div_result)\n",
    "print(modulus_result)\n",
    "print(exponent_result)"
   ]
  },
  {
   "cell_type": "code",
   "execution_count": 2,
   "id": "2c9e494d",
   "metadata": {},
   "outputs": [
    {
     "data": {
      "text/plain": [
       "True"
      ]
     },
     "execution_count": 2,
     "metadata": {},
     "output_type": "execute_result"
    }
   ],
   "source": [
    "## Comparison Operators\n",
    "## == Equal to \n",
    "\n",
    "a = 10\n",
    "b= 10\n",
    "\n",
    "a==b"
   ]
  },
  {
   "cell_type": "code",
   "execution_count": null,
   "id": "3359d155",
   "metadata": {},
   "outputs": [
    {
     "name": "stdout",
     "output_type": "stream",
     "text": [
      "False\n",
      "True\n"
     ]
    }
   ],
   "source": [
    "str1 =\"Keshav\"\n",
    "str2 =\"keshav\"\n",
    "print(str1 == str2)\n",
    "## NOt Equal to\n",
    "print(str1 != str2)"
   ]
  },
  {
   "cell_type": "code",
   "execution_count": 6,
   "id": "23a4f457",
   "metadata": {},
   "outputs": [
    {
     "data": {
      "text/plain": [
       "True"
      ]
     },
     "execution_count": 6,
     "metadata": {},
     "output_type": "execute_result"
    }
   ],
   "source": [
    "#Greater than \n",
    "num1 = 45\n",
    "num2 =32\n",
    "num1> num2"
   ]
  },
  {
   "cell_type": "code",
   "execution_count": null,
   "id": "669cbc51",
   "metadata": {},
   "outputs": [
    {
     "name": "stdout",
     "output_type": "stream",
     "text": [
      "True\n",
      "False\n",
      "True\n"
     ]
    }
   ],
   "source": [
    "# greater than or equal to \n",
    "num1 =23\n",
    "num2 =23\n",
    "print(num1>=num2)\n",
    "print(num2<num1)\n",
    "#less than or equal to \n",
    "print(num2<=num1)"
   ]
  },
  {
   "cell_type": "markdown",
   "id": "af630d0b",
   "metadata": {},
   "source": [
    "## Logical operators\n"
   ]
  },
  {
   "cell_type": "code",
   "execution_count": 11,
   "id": "37dfb74a",
   "metadata": {},
   "outputs": [],
   "source": [
    "#And, not  and or"
   ]
  },
  {
   "cell_type": "code",
   "execution_count": 16,
   "id": "b5ad1a40",
   "metadata": {},
   "outputs": [
    {
     "name": "stdout",
     "output_type": "stream",
     "text": [
      "False\n",
      "True\n",
      "False\n"
     ]
    }
   ],
   "source": [
    "x =True\n",
    "y =False\n",
    "\n",
    "print (x and y)  # both are true \n",
    "print (x or  y )  # either one are correct \n",
    "\n",
    "print(not x) # ulta \n"
   ]
  },
  {
   "cell_type": "code",
   "execution_count": 21,
   "id": "9f74d14c",
   "metadata": {},
   "outputs": [
    {
     "name": "stdout",
     "output_type": "stream",
     "text": [
      "Addition: 41.0\n",
      "subtraction: 1.0\n",
      "division: 1.05\n",
      "floor: 1.0\n",
      "Modulus 1.0\n",
      "expont: 2.7821842944695156e+26\n"
     ]
    }
   ],
   "source": [
    "## Simpple calculators\n",
    "num1 = float(input(\"Enter the first number:\" ))\n",
    "num2 = float(input(\"Enter the second number:\"))\n",
    "\n",
    "addition = num1 +num2\n",
    "subtraction = num1 - num2\n",
    "multiplication = num1 * num2 \n",
    "division = num1 / num2 \n",
    "\n",
    "floor_division = num1 // num2\n",
    "modulus = num1 % num2\n",
    "\n",
    "expontiation =  num1 ** num2 \n",
    "\n",
    "## Displaying results\n",
    "print(\"Addition:\", addition)\n",
    "print(\"subtraction:\", subtraction)\n",
    "print(\"division:\", division)\n",
    "print(\"floor:\", floor_division)\n",
    "print(\"Modulus\" , modulus)\n",
    "print(\"expont:\" , expontiation)\n"
   ]
  },
  {
   "cell_type": "markdown",
   "id": "afe5d5d7",
   "metadata": {},
   "source": []
  }
 ],
 "metadata": {
  "kernelspec": {
   "display_name": "Python 3",
   "language": "python",
   "name": "python3"
  },
  "language_info": {
   "codemirror_mode": {
    "name": "ipython",
    "version": 3
   },
   "file_extension": ".py",
   "mimetype": "text/x-python",
   "name": "python",
   "nbconvert_exporter": "python",
   "pygments_lexer": "ipython3",
   "version": "3.13.4"
  }
 },
 "nbformat": 4,
 "nbformat_minor": 5
}
