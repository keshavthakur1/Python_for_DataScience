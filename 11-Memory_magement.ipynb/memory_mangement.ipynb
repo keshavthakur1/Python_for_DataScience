{
 "cells": [
  {
   "cell_type": "markdown",
   "id": "4f9cbad6",
   "metadata": {},
   "source": [
    "# Python Memory Management\n",
    "\n",
    "Memory mangement in python involves a combination of automatic garbage collection, reference counting , and various internal optimization to efficiently manage memory allocation and deallocation. UNderstanding these machanisms can help developers write a more efficient and reboust applications.\n",
    "\n",
    "1.Key concepts in python memory management\n",
    "\n",
    "2. Memory Allocation and deallocation \n",
    "\n",
    "3. reference counting\n",
    "4. Garbage collection\n",
    "5. The GC module\n",
    "6. Memory manageement Best pratice \n"
   ]
  },
  {
   "cell_type": "markdown",
   "id": "661052ea",
   "metadata": {},
   "source": [
    "# Reference counting \n"
   ]
  },
  {
   "cell_type": "markdown",
   "id": "15421cfa",
   "metadata": {},
   "source": [
    "Reference counting is primary method python uses to manage memory .Each object in python maintain a count reference pointing to it. when  the references pointing to it. when a reference count drops to zero, the memory occupied by the object is deallocated.\n"
   ]
  },
  {
   "cell_type": "code",
   "execution_count": 3,
   "id": "6b5fe3b4",
   "metadata": {},
   "outputs": [
    {
     "name": "stdout",
     "output_type": "stream",
     "text": [
      "2\n"
     ]
    }
   ],
   "source": [
    "import sys\n",
    "\n",
    "a=[]\n",
    "#2 (one reference from 'a' and one from get refcount())\n",
    "print(sys.getrefcount(a))\n"
   ]
  },
  {
   "cell_type": "code",
   "execution_count": 6,
   "id": "99bbcbac",
   "metadata": {},
   "outputs": [
    {
     "name": "stdout",
     "output_type": "stream",
     "text": [
      "3\n"
     ]
    }
   ],
   "source": [
    "b=a \n",
    "print(sys.getrefcount(a))"
   ]
  },
  {
   "cell_type": "code",
   "execution_count": 3,
   "id": "83f1db24",
   "metadata": {},
   "outputs": [
    {
     "name": "stdout",
     "output_type": "stream",
     "text": [
      "3\n",
      "2\n"
     ]
    },
    {
     "ename": "NameError",
     "evalue": "name 'b' is not defined",
     "output_type": "error",
     "traceback": [
      "\u001b[31m---------------------------------------------------------------------------\u001b[39m",
      "\u001b[31mNameError\u001b[39m                                 Traceback (most recent call last)",
      "\u001b[36mCell\u001b[39m\u001b[36m \u001b[39m\u001b[32mIn[3]\u001b[39m\u001b[32m, line 8\u001b[39m\n\u001b[32m      6\u001b[39m \u001b[38;5;28;01mdel\u001b[39;00m b\n\u001b[32m      7\u001b[39m \u001b[38;5;28mprint\u001b[39m(sys.getrefcount(a))  \u001b[38;5;66;03m# Output: 2\u001b[39;00m\n\u001b[32m----> \u001b[39m\u001b[32m8\u001b[39m \u001b[38;5;28mprint\u001b[39m(sys.getrefcount(\u001b[43mb\u001b[49m))  \u001b[38;5;66;03m# Output: 2\u001b[39;00m\n",
      "\u001b[31mNameError\u001b[39m: name 'b' is not defined"
     ]
    }
   ],
   "source": [
    "import sys\n",
    "\n",
    "a = []\n",
    "b = a\n",
    "print(sys.getrefcount(a))  # Output: 3\n",
    "del b\n",
    "print(sys.getrefcount(a))  # Output: 2\n",
    "print(sys.getrefcount(b))  # Output: 2\n",
    "\n"
   ]
  },
  {
   "cell_type": "markdown",
   "id": "4c8ff951",
   "metadata": {},
   "source": [
    "# Garbage Collection\n",
    "python include a cyclic garbage collector to handle reference cycles. Reference cycle occurs when objects reference each other, preventing their refrence counts from reaching zero.\n"
   ]
  },
  {
   "cell_type": "code",
   "execution_count": 5,
   "id": "1510daeb",
   "metadata": {},
   "outputs": [],
   "source": [
    "import gc   # for this we are using gc module \n",
    "\n",
    "gc.enable()  # i am enable this particular method "
   ]
  },
  {
   "cell_type": "code",
   "execution_count": 6,
   "id": "fa625269",
   "metadata": {},
   "outputs": [
    {
     "data": {
      "text/plain": [
       "<function gc.disable()>"
      ]
     },
     "execution_count": 6,
     "metadata": {},
     "output_type": "execute_result"
    }
   ],
   "source": [
    "gc.disable"
   ]
  },
  {
   "cell_type": "code",
   "execution_count": 7,
   "id": "7bad66be",
   "metadata": {},
   "outputs": [
    {
     "data": {
      "text/plain": [
       "2108"
      ]
     },
     "execution_count": 7,
     "metadata": {},
     "output_type": "execute_result"
    }
   ],
   "source": [
    "gc.collect()"
   ]
  },
  {
   "cell_type": "code",
   "execution_count": 9,
   "id": "8ae8e0fa",
   "metadata": {},
   "outputs": [
    {
     "name": "stdout",
     "output_type": "stream",
     "text": [
      "[{'collections': 73, 'collected': 3682, 'uncollectable': 0}, {'collections': 6, 'collected': 408, 'uncollectable': 0}, {'collections': 1, 'collected': 2108, 'uncollectable': 0}]\n"
     ]
    }
   ],
   "source": [
    "#get garbage collection statastic \n",
    "print(gc.get_stats())\n",
    "\n"
   ]
  },
  {
   "cell_type": "code",
   "execution_count": 8,
   "id": "0179d56a",
   "metadata": {},
   "outputs": [
    {
     "name": "stdout",
     "output_type": "stream",
     "text": [
      "[]\n"
     ]
    }
   ],
   "source": [
    "#get unreachable objects\n",
    "print(gc.garbage)"
   ]
  },
  {
   "cell_type": "markdown",
   "id": "a3fe6874",
   "metadata": {},
   "source": [
    "## Memory management Best practise\n",
    "1. Use local variableS: LOcal variables have a shorter lifespan and freed sooner than global variables,\n",
    "2. Avoid circular references: Circular reference can lead to memory leaks if not properly managed.\n",
    "3. Use Generators: Generators produce items one at a time and only keep one item in memory at  a time, making them memory effiecient.\n",
    "4. Explicitly Delete objects:Use the del statement to delete variables and objects explicity.\n",
    "5. Profile Memory usage: Use memory profiling toold like tracemaloc and memory_profiler to identity memory leaks and optimize memory usage .\n"
   ]
  },
  {
   "cell_type": "code",
   "execution_count": 47,
   "id": "a5f4b3a6",
   "metadata": {},
   "outputs": [
    {
     "name": "stdout",
     "output_type": "stream",
     "text": [
      "object obj1 created\n",
      "object obj2 created\n",
      "object obj1 deleted\n",
      "object obj2 deleted\n"
     ]
    },
    {
     "data": {
      "text/plain": [
       "9"
      ]
     },
     "execution_count": 47,
     "metadata": {},
     "output_type": "execute_result"
    }
   ],
   "source": [
    "import gc\n",
    "\n",
    "class MyObject:\n",
    "    def __init__(self, name):\n",
    "        self.name = name\n",
    "        print(f\"object {self.name} created\")\n",
    "        \n",
    "    def __del__(self):  # Correct method name\n",
    "        print(f\"object {self.name} deleted\")\n",
    "        \n",
    "# Create circular reference\n",
    "obj1 = MyObject(\"obj1\")\n",
    "obj2 = MyObject(\"obj2\")\n",
    "\n",
    "obj1.ref = obj2\n",
    "obj2.ref = obj1\n",
    "\n",
    "del obj1\n",
    "del obj2\n",
    "\n",
    "# Manually trigger garbage collection\n",
    "gc.collect()\n",
    "\n",
    "\n",
    "# not handling gc only ,, handling circular reference also"
   ]
  },
  {
   "cell_type": "code",
   "execution_count": 48,
   "id": "3a1ee06c",
   "metadata": {},
   "outputs": [
    {
     "name": "stdout",
     "output_type": "stream",
     "text": [
      "0\n",
      "1\n",
      "2\n",
      "3\n",
      "4\n",
      "5\n",
      "6\n",
      "7\n",
      "8\n",
      "9\n",
      "10\n",
      "11\n"
     ]
    }
   ],
   "source": [
    "\n",
    "## Generators For Memory Efficiency\n",
    "#Generators allow you to produce items one at a time, using memory efficiently by only keeping one item in memory at a time.\n",
    "\n",
    "def generate_numbers(n):\n",
    "    for i in range(n):\n",
    "        yield i\n",
    "        \n",
    "\n",
    "## using the generator\n",
    "for num in generate_numbers(100000):\n",
    "    print(num)\n",
    "    if num>10:\n",
    "        break"
   ]
  },
  {
   "cell_type": "code",
   "execution_count": 49,
   "id": "dd51594a",
   "metadata": {},
   "outputs": [],
   "source": [
    "## Profiling Memory USage with tracemalloc\n",
    "import tracemalloc\n",
    "\n",
    "def create_list():\n",
    "    return [i for i in range(10000)]\n",
    "\n",
    "def main():\n",
    "    tracemalloc.start()\n",
    "    \n",
    "    create_list()\n",
    "    \n",
    "    snapshot = tracemalloc.take_snapshot()\n",
    "    top_stats = snapshot.statistics('lineno')\n",
    "    \n",
    "    print(\"[ Top 10 ]\")\n",
    "    for stat in top_stats[::]:\n",
    "        print(stat)"
   ]
  },
  {
   "cell_type": "markdown",
   "id": "c158e6b3",
   "metadata": {},
   "source": [
    "    # Python Memory Management: \n",
    "    Automatic memory management is handled via reference counting and garbage collection. Memory is dynamically allocated on the heap, and Python ensures efficient cleanup, although cyclic references can still cause memory leaks.\n",
    "\n",
    "    # Reference Counting: Keeps track of references to objects, automatically freeing memory when the reference count reaches zero. However, it struggles with cyclic references, which is why Python includes a cyclic garbage collector.\n",
    "\n",
    "    # Generators: Offer a memory-efficient way to handle large datasets by generating values one at a time rather than storing them all in memory at once. This makes them ideal for large ranges, infinite sequences, and working with large files.\n",
    "\n"
   ]
  }
 ],
 "metadata": {
  "kernelspec": {
   "display_name": "Python 3",
   "language": "python",
   "name": "python3"
  },
  "language_info": {
   "codemirror_mode": {
    "name": "ipython",
    "version": 3
   },
   "file_extension": ".py",
   "mimetype": "text/x-python",
   "name": "python",
   "nbconvert_exporter": "python",
   "pygments_lexer": "ipython3",
   "version": "3.13.4"
  }
 },
 "nbformat": 4,
 "nbformat_minor": 5
}
