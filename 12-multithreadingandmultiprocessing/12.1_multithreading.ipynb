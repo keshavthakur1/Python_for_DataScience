{
 "cells": [
  {
   "cell_type": "markdown",
   "id": "8d0f81c2",
   "metadata": {},
   "source": [
    "### Multithreading\n",
    "##When to use Multi Threading\n",
    "\n",
    "###I/O-bound tasks: Tasks that spend more time waiting for I/O operations (e.g., file operations, network requests).\n",
    "\n",
    "###Concurrent execution: When you want to improve the throughput of your application by performing multiple operations concurrently.\n"
   ]
  },
  {
   "cell_type": "code",
   "execution_count": null,
   "id": "df944476",
   "metadata": {},
   "outputs": [],
   "source": [
    "import threading\n",
    "import time\n",
    "\n",
    "def print_numbers():\n",
    "    for i in range(5):\n",
    "        time.sleep(2)\n",
    "        print(f\"Number:{i}\")\n",
    "\n",
    "def print_letter():\n",
    "    for letter in \"abcde\":\n",
    "        time.sleep(2)\n",
    "        print(f\"Letter: {letter}\")\n",
    "\n",
    "##create 2 threads\n",
    "t1=threading.Thread(target=print_numbers)\n",
    "t2=threading.Thread(target=print_letter)\n",
    "\n",
    "t=time.time()\n",
    "## start the thread\n",
    "t1.start()\n",
    "t2.start()\n",
    "\n",
    "### Wait for the threads to complete\n",
    "t1.join()\n",
    "t2.join()\n",
    "\n",
    "finished_time=time.time()-t\n",
    "print(finished_time)"
   ]
  },
  {
   "cell_type": "code",
   "execution_count": null,
   "id": "ac22e3f3",
   "metadata": {},
   "outputs": [],
   "source": []
  }
 ],
 "metadata": {
  "kernelspec": {
   "display_name": "Python 3",
   "language": "python",
   "name": "python3"
  },
  "language_info": {
   "name": "python",
   "version": "3.13.4"
  }
 },
 "nbformat": 4,
 "nbformat_minor": 5
}
