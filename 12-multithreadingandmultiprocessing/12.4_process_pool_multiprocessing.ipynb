{
 "cells": [
  {
   "cell_type": "code",
   "execution_count": 1,
   "id": "36d3a898",
   "metadata": {},
   "outputs": [
    {
     "name": "stdout",
     "output_type": "stream",
     "text": [
      "Square: 1\n",
      "Square: 4\n",
      "Square: 9\n",
      "Square: 16\n",
      "Square: 25\n",
      "Square: 36\n",
      "Square: 49\n",
      "Square: 64\n",
      "Square: 81\n",
      "Square: 121\n",
      "Square: 4\n",
      "Square: 9\n",
      "Square: 144\n",
      "Square: 196\n"
     ]
    }
   ],
   "source": [
    "###  Multiprocessing with ProcessPoolExecutor\n",
    "\n",
    "from concurrent.futures import ProcessPoolExecutor\n",
    "import time\n",
    "\n",
    "def square_number(number):\n",
    "    time.sleep(2)\n",
    "    return f\"Square: {number * number}\"\n",
    "\n",
    "numbers=[1,2,3,4,5,6,7,8,9,11,2,3,12,14]\n",
    "if __name__==\"__main__\":\n",
    "\n",
    "    with ProcessPoolExecutor(max_workers=3) as executor:\n",
    "        results=executor.map(square_number,numbers)\n",
    "\n",
    "    for result in results:\n",
    "        print(result)"
   ]
  }
 ],
 "metadata": {
  "kernelspec": {
   "display_name": "Python 3",
   "language": "python",
   "name": "python3"
  },
  "language_info": {
   "codemirror_mode": {
    "name": "ipython",
    "version": 3
   },
   "file_extension": ".py",
   "mimetype": "text/x-python",
   "name": "python",
   "nbconvert_exporter": "python",
   "pygments_lexer": "ipython3",
   "version": "3.13.4"
  }
 },
 "nbformat": 4,
 "nbformat_minor": 5
}
