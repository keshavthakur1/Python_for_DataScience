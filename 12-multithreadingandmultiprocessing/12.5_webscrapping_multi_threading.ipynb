{
 "cells": [
  {
   "cell_type": "code",
   "execution_count": 1,
   "id": "5bd5ccb9",
   "metadata": {},
   "outputs": [
    {
     "data": {
      "text/plain": [
       "'\\nReal-World Example: Multithreading for I/O-bound Tasks\\nScenario: Web Scraping\\nWeb scraping often involves making numerous network requests to \\nfetch web pages. These tasks are I/O-bound because they spend a lot of\\ntime waiting for responses from servers. Multithreading can significantly\\nimprove the performance by allowing multiple web pages to be fetched concurrently.\\n\\n'"
      ]
     },
     "execution_count": 1,
     "metadata": {},
     "output_type": "execute_result"
    }
   ],
   "source": [
    "'''\n",
    "Real-World Example: Multithreading for I/O-bound Tasks\n",
    "Scenario: Web Scraping\n",
    "Web scraping often involves making numerous network requests to \n",
    "fetch web pages. These tasks are I/O-bound because they spend a lot of\n",
    "time waiting for responses from servers. Multithreading can significantly\n",
    "improve the performance by allowing multiple web pages to be fetched concurrently.\n",
    "\n",
    "'''"
   ]
  },
  {
   "cell_type": "code",
   "execution_count": 6,
   "id": "278a2d24",
   "metadata": {},
   "outputs": [
    {
     "data": {
      "text/plain": [
       "'\\nhttps://python.langchain.com/v0.2/docs/introduction/\\n\\nhttps://python.langchain.com/v0.2/docs/concepts/\\n\\nhttps://python.langchain.com/v0.2/docs/tutorials/\\n'"
      ]
     },
     "execution_count": 6,
     "metadata": {},
     "output_type": "execute_result"
    }
   ],
   "source": [
    "\"\"\"\n",
    "https://python.langchain.com/v0.2/docs/introduction/\n",
    "\n",
    "https://python.langchain.com/v0.2/docs/concepts/\n",
    "\n",
    "https://python.langchain.com/v0.2/docs/tutorials/\n",
    "\"\"\"\n",
    "  # this is web we are scraping "
   ]
  },
  {
   "cell_type": "markdown",
   "id": "fb358f4f",
   "metadata": {},
   "source": [
    "# so for webscaping we have installing bs4 library for web scrping \n"
   ]
  },
  {
   "cell_type": "code",
   "execution_count": 1,
   "id": "76ee9562",
   "metadata": {},
   "outputs": [
    {
     "ename": "ModuleNotFoundError",
     "evalue": "No module named 'requests'",
     "output_type": "error",
     "traceback": [
      "\u001b[31m---------------------------------------------------------------------------\u001b[39m",
      "\u001b[31mModuleNotFoundError\u001b[39m                       Traceback (most recent call last)",
      "\u001b[36mCell\u001b[39m\u001b[36m \u001b[39m\u001b[32mIn[1]\u001b[39m\u001b[32m, line 2\u001b[39m\n\u001b[32m      1\u001b[39m \u001b[38;5;28;01mimport\u001b[39;00m\u001b[38;5;250m \u001b[39m\u001b[34;01mthreading\u001b[39;00m\n\u001b[32m----> \u001b[39m\u001b[32m2\u001b[39m \u001b[38;5;28;01mimport\u001b[39;00m\u001b[38;5;250m \u001b[39m\u001b[34;01mrequests\u001b[39;00m\n\u001b[32m      3\u001b[39m \u001b[38;5;28;01mfrom\u001b[39;00m\u001b[38;5;250m \u001b[39m\u001b[34;01mbs4\u001b[39;00m\u001b[38;5;250m \u001b[39m\u001b[38;5;28;01mimport\u001b[39;00m BeautifulSoup\n\u001b[32m      5\u001b[39m urls=[\n\u001b[32m      6\u001b[39m \u001b[33m'\u001b[39m\u001b[33mhttps://python.langchain.com/v0.2/docs/introduction/\u001b[39m\u001b[33m'\u001b[39m,\n\u001b[32m      7\u001b[39m \n\u001b[32m   (...)\u001b[39m\u001b[32m     11\u001b[39m \n\u001b[32m     12\u001b[39m ]\n",
      "\u001b[31mModuleNotFoundError\u001b[39m: No module named 'requests'"
     ]
    }
   ],
   "source": [
    "\n",
    "import threading\n",
    "import requests\n",
    "from bs4 import BeautifulSoup\n",
    "\n",
    "urls=[\n",
    "'https://python.langchain.com/v0.2/docs/introduction/',\n",
    "\n",
    "'https://python.langchain.com/v0.2/docs/concepts/',\n",
    "\n",
    "'https://python.langchain.com/v0.2/docs/tutorials/'\n",
    "\n",
    "]\n",
    "\n",
    "def fetch_content(url):\n",
    "    response=requests.get(url)\n",
    "    soup=BeautifulSoup(response.content,'html.parser')\n",
    "    print(f'Fetched {len(soup.text)} characters from {url}')\n",
    "\n",
    "threads=[]\n",
    "\n",
    "for url in urls:\n",
    "    thread=threading.Thread(target=fetch_content,args=(url,))\n",
    "    threads.append(thread)\n",
    "    thread.start()\n",
    "\n",
    "for thread in threads:\n",
    "    thread.join()\n",
    "\n",
    "print(\"All web pages fetched\")"
   ]
  }
 ],
 "metadata": {
  "kernelspec": {
   "display_name": "Python 3",
   "language": "python",
   "name": "python3"
  },
  "language_info": {
   "codemirror_mode": {
    "name": "ipython",
    "version": 3
   },
   "file_extension": ".py",
   "mimetype": "text/x-python",
   "name": "python",
   "nbconvert_exporter": "python",
   "pygments_lexer": "ipython3",
   "version": "3.13.4"
  }
 },
 "nbformat": 4,
 "nbformat_minor": 5
}
