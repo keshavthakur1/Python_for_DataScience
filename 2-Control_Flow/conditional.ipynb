{
 "cells": [
  {
   "cell_type": "markdown",
   "id": "2fe0164f",
   "metadata": {},
   "source": [
    "1. Introduction of Conditional statement\n",
    "2. if statement\n",
    "3. else statement\n",
    "4. elif statement \n",
    "5. Nested conditional statement\n",
    "6. practical statement\n",
    "7. common errors and best practices\n"
   ]
  },
  {
   "cell_type": "code",
   "execution_count": null,
   "id": "46943e51",
   "metadata": {},
   "outputs": [],
   "source": [
    "## if statement \n",
    "age =20 \n",
    "if age >=21:   #if entire condition is true then this will excute \n",
    "    print(\"you are allow to vote\")\n",
    "else:\n",
    "    print(\"not allow\")\n",
    "    "
   ]
  },
  {
   "cell_type": "code",
   "execution_count": null,
   "id": "16b0e1e9",
   "metadata": {},
   "outputs": [
    {
     "name": "stdout",
     "output_type": "stream",
     "text": [
      "You are minor\n"
     ]
    }
   ],
   "source": [
    "#else\n",
    "#The else statement execute a block of code if the condition in the if statement is false \n",
    "\n",
    "age =10\n",
    "\n",
    "if age  >=18:\n",
    "    print(\"You are  eligible for voting\")\n",
    "else: \n",
    "    print(\"You are minor\")\n"
   ]
  },
  {
   "cell_type": "code",
   "execution_count": 3,
   "id": "4f64291c",
   "metadata": {},
   "outputs": [
    {
     "data": {
      "text/plain": [
       "False"
      ]
     },
     "execution_count": 3,
     "metadata": {},
     "output_type": "execute_result"
    }
   ],
   "source": [
    "age>15"
   ]
  },
  {
   "cell_type": "code",
   "execution_count": 2,
   "id": "87966120",
   "metadata": {},
   "outputs": [
    {
     "name": "stdout",
     "output_type": "stream",
     "text": [
      "drink milk\n"
     ]
    }
   ],
   "source": [
    "#elif\n",
    " ## The elif statement allows you to check multiple conditions. Its stand for \"else if\"\n",
    " \n",
    "age =int(input(\"Enter the number:\"))\n",
    "\n",
    "if age<=13:\n",
    "    print(\"drink milk\")\n",
    "elif age <=18:\n",
    "    print(\"drink water\")\n",
    "elif age >=18  and age<=30:\n",
    "    print(\"drink wishki\")\n",
    "else:\n",
    "    print(\"YOU are Sigma\")\n",
    " \n"
   ]
  },
  {
   "cell_type": "code",
   "execution_count": null,
   "id": "90161d7e",
   "metadata": {},
   "outputs": [],
   "source": [
    "# Nested COnditional statement what you can ?? you can do place one or more if , elif or else statement inside another if, elif, or else statement to create nested condional statement  \n"
   ]
  },
  {
   "cell_type": "code",
   "execution_count": 3,
   "id": "fffcbf53",
   "metadata": {},
   "outputs": [
    {
     "name": "stdout",
     "output_type": "stream",
     "text": [
      "num is either zero and neg\n"
     ]
    }
   ],
   "source": [
    "#number is even , odd , negative\n",
    "num =int(input(\"Enter the value:\"))\n",
    "if num>0:\n",
    "    print(\"Number is positive\")# first condition is check number is positive or negative \n",
    "    if num % 2==0:\n",
    "      print(\"Even number \")\n",
    "    else:\n",
    "        print(\"number is odd\")\n",
    "else:\n",
    "    print(\"num is either zero and neg\")\n",
    "          "
   ]
  },
  {
   "cell_type": "code",
   "execution_count": null,
   "id": "1abb7fce",
   "metadata": {},
   "outputs": [
    {
     "name": "stdout",
     "output_type": "stream",
     "text": [
      "2024 is the leap \n"
     ]
    }
   ],
   "source": [
    "#dermined if a year is a leap year using nested condition statement \n",
    "\n",
    "year = int(input(\"Enter the year:\"))\n",
    "\n",
    "if year % 4 ==0:\n",
    "    if year %100 ==0:\n",
    "        if year % 400==0:\n",
    "            \n",
    "           print(   year , \"year is leap year\")\n",
    "        else:\n",
    "            print(year, \"is not a leap year\")\n",
    "    else:\n",
    "        print(year, \"is the leap \")\n",
    "else:\n",
    "    print(year, \"is not a leap year \")\n",
    "    \n",
    "    \n",
    "    \n"
   ]
  },
  {
   "cell_type": "code",
   "execution_count": 12,
   "id": "5f570949",
   "metadata": {},
   "outputs": [
    {
     "name": "stdout",
     "output_type": "stream",
     "text": [
      "rESULT: 1\n"
     ]
    }
   ],
   "source": [
    "#Assigment Do simple calculator program perform different operation \n",
    "\n",
    "num1 =int(input(\"ENter the number1:\"))\n",
    "num2 = int(input(\"ENter the number 2:\"))\n",
    "operation = input(\"ENter the operation(+, -, *, / , **, %)\")\n",
    "\n",
    "if operation =='+':\n",
    "    result = num1 + num2\n",
    "\n",
    "elif operation =='-':\n",
    "    result = num1 - num2\n",
    "    \n",
    "elif operation =='*':\n",
    "    result = num1 * num2\n",
    "\n",
    "elif operation =='**':\n",
    "    result = num1 ** num2\n",
    "    \n",
    "        \n",
    "elif operation == '/':\n",
    "    if num2 != 0:\n",
    "        result = num1 / num2\n",
    "    else:\n",
    "        result = \"Error! Division by zero.\"\n",
    "else:\n",
    "    result = \"Invalid operation.\"\n",
    "    \n",
    "if operation =='%':\n",
    "    result = num1 % num2\n",
    "    \n",
    "print(\"rESULT:\", result)"
   ]
  },
  {
   "cell_type": "code",
   "execution_count": 14,
   "id": "212e2e35",
   "metadata": {},
   "outputs": [
    {
     "name": "stdout",
     "output_type": "stream",
     "text": [
      "Ticket Price: $20\n"
     ]
    }
   ],
   "source": [
    "#Determine the ticket price based on age and weather the person is a student.\n",
    "#Ticket pricing based on age and student status \n",
    "\n",
    "age = int (input(\"Enter your age:\"))\n",
    "is_student=input(\"ARE YOU STUDENT? (yes/no):\").lower()\n",
    "\n",
    "if age <=5:\n",
    "    price = \"free\"\n",
    "\n",
    "elif age<=12:\n",
    "    price = \"$10\"\n",
    "    \n",
    "elif age<= 17:\n",
    "    if is_student == 'yes':   \n",
    "      price=\"$15\"\n",
    "    else:\n",
    "       price=\"$20\"\n",
    "    \n",
    "elif age <= 64:\n",
    "    if is_student == 'yes':\n",
    "        price = \"$18\"\n",
    "    else:\n",
    "        price = \"$25\"\n",
    "else:\n",
    "    price = \"$20\"\n",
    "    \n",
    "    \n",
    "    \n",
    "print(\"Ticket Price:\", price)\n",
    "\n",
    "    "
   ]
  },
  {
   "cell_type": "code",
   "execution_count": null,
   "id": "28840789",
   "metadata": {},
   "outputs": [],
   "source": [
    "#Employee Bonus calculation \n",
    "\n",
    "#Take user input\n",
    "\n",
    "year_of_service = int(input(\"Enter year of service:\"))\n",
    "performance_rating=float(input(\"Enter the performance rating(1.0 to 5.0):\"))\n"
   ]
  }
 ],
 "metadata": {
  "kernelspec": {
   "display_name": "Python 3",
   "language": "python",
   "name": "python3"
  },
  "language_info": {
   "codemirror_mode": {
    "name": "ipython",
    "version": 3
   },
   "file_extension": ".py",
   "mimetype": "text/x-python",
   "name": "python",
   "nbconvert_exporter": "python",
   "pygments_lexer": "ipython3",
   "version": "3.13.4"
  }
 },
 "nbformat": 4,
 "nbformat_minor": 5
}
