{
 "cells": [
  {
   "cell_type": "markdown",
   "id": "88a8ac5b",
   "metadata": {},
   "source": [
    "Loop \n",
    "1. intro to loop\n",
    "\n",
    "2. for loop \n",
    "\n",
    "Iterating over a range \n",
    "\n",
    "Iterating over a string \n",
    "\n",
    "3.while Loop\n",
    "\n",
    "4.Loop Control Statement'\n",
    "\n",
    "break\n",
    "\n",
    "continue\n",
    "\n",
    "pass\n",
    "\n",
    "5.Nested loops\n"
   ]
  },
  {
   "cell_type": "code",
   "execution_count": 1,
   "id": "fd2fd183",
   "metadata": {},
   "outputs": [
    {
     "data": {
      "text/plain": [
       "range(0, 5)"
      ]
     },
     "execution_count": 1,
     "metadata": {},
     "output_type": "execute_result"
    }
   ],
   "source": [
    "range(0,5)"
   ]
  },
  {
   "cell_type": "code",
   "execution_count": 3,
   "id": "4a3da193",
   "metadata": {},
   "outputs": [
    {
     "name": "stdout",
     "output_type": "stream",
     "text": [
      "1\n",
      "2\n",
      "3\n",
      "4\n",
      "5\n"
     ]
    }
   ],
   "source": [
    "for i in range(1, 6):\n",
    "    print(i)\n"
   ]
  },
  {
   "cell_type": "code",
   "execution_count": 18,
   "id": "3809d092",
   "metadata": {},
   "outputs": [
    {
     "name": "stdout",
     "output_type": "stream",
     "text": [
      "1\n",
      "4\n",
      "7\n"
     ]
    }
   ],
   "source": [
    "#step in range \n",
    "for i in range (1, 10, 3):\n",
    "    print(i)"
   ]
  },
  {
   "cell_type": "code",
   "execution_count": 19,
   "id": "8b39ce3d",
   "metadata": {},
   "outputs": [
    {
     "name": "stdout",
     "output_type": "stream",
     "text": [
      "10\n",
      "8\n",
      "6\n",
      "4\n",
      "2\n"
     ]
    }
   ],
   "source": [
    "for i in range(10, 1, -2):\n",
    "    print(i)"
   ]
  },
  {
   "cell_type": "code",
   "execution_count": 8,
   "id": "154da98f",
   "metadata": {},
   "outputs": [
    {
     "name": "stdout",
     "output_type": "stream",
     "text": [
      "s\n",
      "t\n",
      "i\n",
      "v\n",
      "e\n"
     ]
    }
   ],
   "source": [
    "ster =\"stive\"\n",
    "for i in ster:\n",
    "    print(i)"
   ]
  },
  {
   "cell_type": "code",
   "execution_count": 23,
   "id": "4206a9d5",
   "metadata": {},
   "outputs": [
    {
     "name": "stdout",
     "output_type": "stream",
     "text": [
      "0\n",
      "1\n",
      "2\n",
      "3\n",
      "4\n"
     ]
    }
   ],
   "source": [
    "#while loop \n",
    "#while loop continue to excute as long as the condition is true \n",
    "count =0\n",
    "while count<5:\n",
    "    print(count)\n",
    "    count =count+1"
   ]
  },
  {
   "cell_type": "code",
   "execution_count": null,
   "id": "80abdc4b",
   "metadata": {},
   "outputs": [
    {
     "name": "stdout",
     "output_type": "stream",
     "text": [
      "0\n",
      "1\n",
      "2\n",
      "3\n",
      "4\n"
     ]
    }
   ],
   "source": [
    "##Loop control statement \n",
    "#break\n",
    "#The break statement exits the loop permaturely \n",
    "\n",
    "#Break statement \n",
    "for i in range(10):\n",
    "    if i==5:\n",
    "      break\n",
    "    print(i)\n",
    "print(\"outside loop\") # will run after the loop break\n"
   ]
  },
  {
   "cell_type": "code",
   "execution_count": null,
   "id": "08c5826a",
   "metadata": {},
   "outputs": [
    {
     "name": "stdout",
     "output_type": "stream",
     "text": [
      "1\n",
      "3\n",
      "5\n",
      "7\n",
      "9\n"
     ]
    }
   ],
   "source": [
    "#continue \n",
    "##The continue statement skips the current iterator and contain with the next \n",
    "\n",
    "for i in range(10):\n",
    "    if i % 2==0:\n",
    "        continue\n",
    "    print(i)\n",
    "        "
   ]
  },
  {
   "cell_type": "code",
   "execution_count": 30,
   "id": "fce279f0",
   "metadata": {},
   "outputs": [
    {
     "name": "stdout",
     "output_type": "stream",
     "text": [
      "0\n",
      "1\n",
      "2\n",
      "3\n",
      "4\n"
     ]
    }
   ],
   "source": [
    "for i in range(5):\n",
    "    if i==3:\n",
    "        pass\n",
    "    print(i)\n"
   ]
  },
  {
   "cell_type": "code",
   "execution_count": null,
   "id": "7154137a",
   "metadata": {},
   "outputs": [
    {
     "name": "stdout",
     "output_type": "stream",
     "text": [
      "i :0 and j:0\n",
      "i :0 and j:1\n",
      "i :1 and j:0\n",
      "i :1 and j:1\n",
      "i :2 and j:0\n",
      "i :2 and j:1\n"
     ]
    }
   ],
   "source": [
    "#nested loops \n",
    "#a loop inside a loop \n",
    "for i in range(3):\n",
    "    for j in range(2):\n",
    "        print(f\"i :{i} and j:{j}\")#if string just diplay the variable\n",
    "#inner for iterate evey time when outer for loop excuted\n",
    "        "
   ]
  },
  {
   "cell_type": "code",
   "execution_count": 24,
   "id": "385438b5",
   "metadata": {},
   "outputs": [
    {
     "name": "stdout",
     "output_type": "stream",
     "text": [
      "sum of first 10  natural number: 55\n"
     ]
    }
   ],
   "source": [
    "#calculate the sum of first N natural number using a while loop and for loop\n",
    "n =10\n",
    "sum =0\n",
    "count=1\n",
    "\n",
    "while count<=n:\n",
    "    sum = sum+count\n",
    "    count=count+1\n",
    "\n",
    "print(\"sum of first 10  natural number:\", sum)"
   ]
  },
  {
   "cell_type": "code",
   "execution_count": null,
   "id": "64403216",
   "metadata": {},
   "outputs": [
    {
     "name": "stdout",
     "output_type": "stream",
     "text": [
      "55\n"
     ]
    }
   ],
   "source": [
    "n =10\n",
    "sum =0\n",
    "\n",
    "for i in range(11):\n",
    "    sum = sum+i\n",
    "print(sum)\n",
    "\n",
    "    "
   ]
  },
  {
   "cell_type": "code",
   "execution_count": 41,
   "id": "472e4d76",
   "metadata": {},
   "outputs": [
    {
     "name": "stdout",
     "output_type": "stream",
     "text": [
      "2\n",
      "3\n",
      "5\n",
      "7\n",
      "11\n",
      "13\n",
      "17\n",
      "19\n",
      "23\n",
      "29\n",
      "31\n",
      "37\n",
      "41\n",
      "43\n",
      "47\n",
      "53\n",
      "59\n",
      "61\n",
      "67\n",
      "71\n",
      "73\n",
      "79\n",
      "83\n",
      "89\n",
      "97\n"
     ]
    }
   ],
   "source": [
    "#prime number between 1 and 100\n",
    "for num in range(1,101):\n",
    "    if num>1:\n",
    "        for i in range(2,num):\n",
    "            if num%i==0:\n",
    "                break\n",
    "        else:\n",
    "            print(num)"
   ]
  }
 ],
 "metadata": {
  "kernelspec": {
   "display_name": "Python 3",
   "language": "python",
   "name": "python3"
  },
  "language_info": {
   "codemirror_mode": {
    "name": "ipython",
    "version": 3
   },
   "file_extension": ".py",
   "mimetype": "text/x-python",
   "name": "python",
   "nbconvert_exporter": "python",
   "pygments_lexer": "ipython3",
   "version": "3.13.4"
  }
 },
 "nbformat": 4,
 "nbformat_minor": 5
}
