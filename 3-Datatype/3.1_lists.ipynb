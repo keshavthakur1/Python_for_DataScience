{
 "cells": [
  {
   "cell_type": "markdown",
   "id": "dbf1e73f",
   "metadata": {},
   "source": [
    "INTRODUCTION TO LIST\n"
   ]
  },
  {
   "cell_type": "markdown",
   "id": "59a92d6f",
   "metadata": {},
   "source": [
    "lIST ARE ORDERED, MUTABLE COLLECTION OF ITEMS.\n",
    "THEY CAN CONTAIN ITEM OF DIFFERENT DATA TYPES\n"
   ]
  },
  {
   "cell_type": "markdown",
   "id": "7088e2f9",
   "metadata": {},
   "source": [
    "cLASS OUTLINE\n"
   ]
  },
  {
   "cell_type": "markdown",
   "id": "a69a304f",
   "metadata": {},
   "source": [
    "INTRO TO LIST\n",
    "CREATING LIST \n",
    "ACESSING LIST ELEMENTS\n",
    "MODIFYING LIST ELEMENT\n",
    "LIST METHODS \n",
    "SLICING LIST \n",
    "ITERATING OVER LISTS\n",
    "LIST COMPREHENSIONS\n",
    "NESTED LISTS\n",
    "PRACTICAL EXAMPLES AND COMMON ERRORS\n",
    "\n"
   ]
  },
  {
   "cell_type": "code",
   "execution_count": 4,
   "id": "9a1e7a6d",
   "metadata": {},
   "outputs": [
    {
     "name": "stdout",
     "output_type": "stream",
     "text": [
      "[]\n",
      "<class 'list'>\n"
     ]
    }
   ],
   "source": [
    "lst =[]  \n",
    "print(lst) #empty list\n",
    "print(type(lst))"
   ]
  },
  {
   "cell_type": "code",
   "execution_count": 5,
   "id": "e9b0208a",
   "metadata": {},
   "outputs": [
    {
     "name": "stdout",
     "output_type": "stream",
     "text": [
      "['keshav', 'jack', 'jacob', 1, 2, 34, 4]\n"
     ]
    }
   ],
   "source": [
    "names=[\"keshav\", \"jack\",\"jacob\", 1,2 ,34 ,4]\n",
    "print(names)"
   ]
  },
  {
   "cell_type": "code",
   "execution_count": 6,
   "id": "b732a148",
   "metadata": {},
   "outputs": [
    {
     "name": "stdout",
     "output_type": "stream",
     "text": [
      "apple\n",
      "kiwi\n"
     ]
    },
    {
     "ename": "IndexError",
     "evalue": "list index out of range",
     "output_type": "error",
     "traceback": [
      "\u001b[31m---------------------------------------------------------------------------\u001b[39m",
      "\u001b[31mIndexError\u001b[39m                                Traceback (most recent call last)",
      "\u001b[36mCell\u001b[39m\u001b[36m \u001b[39m\u001b[32mIn[6]\u001b[39m\u001b[32m, line 5\u001b[39m\n\u001b[32m      3\u001b[39m \u001b[38;5;28mprint\u001b[39m(fruits[\u001b[32m0\u001b[39m])\n\u001b[32m      4\u001b[39m \u001b[38;5;28mprint\u001b[39m(fruits[-\u001b[32m1\u001b[39m])\n\u001b[32m----> \u001b[39m\u001b[32m5\u001b[39m \u001b[38;5;28mprint\u001b[39m(\u001b[43mfruits\u001b[49m\u001b[43m[\u001b[49m\u001b[32;43m4\u001b[39;49m\u001b[43m]\u001b[49m)\n",
      "\u001b[31mIndexError\u001b[39m: list index out of range"
     ]
    }
   ],
   "source": [
    "#acessing list elements\n",
    "fruits=[\"apple\", \"banana\", \"cherry\", \"kiwi\"]\n",
    "print(fruits[0])\n",
    "print(fruits[-1])\n",
    "print(fruits[4])"
   ]
  },
  {
   "cell_type": "code",
   "execution_count": 8,
   "id": "1aa6384e",
   "metadata": {},
   "outputs": [
    {
     "name": "stdout",
     "output_type": "stream",
     "text": [
      "['banana', 'cherry']\n",
      "['banana', 'cherry', 'kiwi']\n"
     ]
    }
   ],
   "source": [
    "#slicing \n",
    "print(fruits[1:3]) # last index is exclude and first index is include \n",
    "print(fruits[1:])  # if i am not write last index its will pick up till last element\n"
   ]
  },
  {
   "cell_type": "code",
   "execution_count": 9,
   "id": "d8dcd2eb",
   "metadata": {},
   "outputs": [
    {
     "name": "stdout",
     "output_type": "stream",
     "text": [
      "['apple', 'watermelon', 'cherry', 'kiwi']\n"
     ]
    }
   ],
   "source": [
    "#modifying the list elements\n",
    "fruits\n",
    "fruits[1]=\"watermelon\"   \n",
    "print(fruits)   # change banana to watermelon"
   ]
  },
  {
   "cell_type": "code",
   "execution_count": 10,
   "id": "662608f4",
   "metadata": {},
   "outputs": [],
   "source": [
    "# fruits[1:] =\"watermelon\"\n",
    "# print(fruits)\n"
   ]
  },
  {
   "cell_type": "code",
   "execution_count": 18,
   "id": "01ba5235",
   "metadata": {},
   "outputs": [
    {
     "name": "stdout",
     "output_type": "stream",
     "text": [
      "['apple', 'cherry', 'kiwi', 'orange', 'orange', 'orange', 'orange', 'orange', 'orange', 'orange', 'watermelon', 'orange']\n",
      "None\n",
      "['apple', 'cherry', 'kiwi', 'orange', 'orange', 'orange', 'orange', 'orange', 'orange', 'orange', 'orange', 'watermelon']\n"
     ]
    }
   ],
   "source": [
    "#list methods \n",
    "fruits.append(\"orange\") # add the item to the end \n",
    "print(fruits)\n",
    "print(fruits.sort()) \n",
    "print(fruits)\n"
   ]
  },
  {
   "cell_type": "code",
   "execution_count": 61,
   "id": "1bb30ac0",
   "metadata": {},
   "outputs": [],
   "source": [
    "#insert bhi kar sakte ho \n",
    "# fruits.insert()\n",
    "# fruits.remove(\"banana\")\n",
    "# print(fruits)\n",
    "\n",
    "# pop kar sakte ho \n"
   ]
  },
  {
   "cell_type": "code",
   "execution_count": 19,
   "id": "156f284a",
   "metadata": {},
   "outputs": [
    {
     "name": "stdout",
     "output_type": "stream",
     "text": [
      "None\n",
      "None\n"
     ]
    }
   ],
   "source": [
    "print(fruits.sort())  # its will sort the list in asceding order \n",
    "# print(fruits_sort)\n",
    "print(fruits.sort()) \n",
    " #reverse bhi kar sakte ho \n",
    "fruits.reverse()"
   ]
  },
  {
   "cell_type": "code",
   "execution_count": 20,
   "id": "62f51a10",
   "metadata": {},
   "outputs": [
    {
     "data": {
      "text/plain": [
       "['watermelon',\n",
       " 'orange',\n",
       " 'orange',\n",
       " 'orange',\n",
       " 'orange',\n",
       " 'orange',\n",
       " 'orange',\n",
       " 'orange',\n",
       " 'orange',\n",
       " 'kiwi',\n",
       " 'cherry',\n",
       " 'apple']"
      ]
     },
     "execution_count": 20,
     "metadata": {},
     "output_type": "execute_result"
    }
   ],
   "source": [
    "fruits"
   ]
  },
  {
   "cell_type": "markdown",
   "id": "a7acac86",
   "metadata": {},
   "source": []
  },
  {
   "cell_type": "code",
   "execution_count": 68,
   "id": "1efd3f36",
   "metadata": {},
   "outputs": [
    {
     "name": "stdout",
     "output_type": "stream",
     "text": [
      "[]\n"
     ]
    }
   ],
   "source": [
    "#remove all the item from the list \n",
    "fruits.clear()\n",
    "print(fruits)"
   ]
  },
  {
   "cell_type": "code",
   "execution_count": 23,
   "id": "738505d2",
   "metadata": {},
   "outputs": [
    {
     "name": "stdout",
     "output_type": "stream",
     "text": [
      "[3, 4, 5]\n",
      "[1, 2, 3, 4, 5]\n",
      "[1, 3, 5, 7, 9]\n",
      "[10, 9, 8, 7, 6, 5, 4, 3, 2, 1]\n",
      "[10, 8, 6, 4, 2]\n"
     ]
    }
   ],
   "source": [
    "#Discuss more about slicing list \n",
    "numbers =[1,2,3,4,5,6,7,8,9,10]\n",
    "print(numbers[2:5])\n",
    "print(numbers[:5])\n",
    "print(numbers[::2])  # it noting its steping matlab gaps\n",
    "print(numbers[::-1])  # back to \n",
    "print(numbers[::-2])"
   ]
  },
  {
   "cell_type": "code",
   "execution_count": 24,
   "id": "eb83d5a6",
   "metadata": {},
   "outputs": [
    {
     "name": "stdout",
     "output_type": "stream",
     "text": [
      "1\n",
      "2\n",
      "3\n",
      "4\n",
      "5\n",
      "6\n",
      "7\n",
      "8\n",
      "9\n",
      "10\n"
     ]
    }
   ],
   "source": [
    "for number in numbers:\n",
    "    print(number)"
   ]
  },
  {
   "cell_type": "code",
   "execution_count": 26,
   "id": "b9b28a5a",
   "metadata": {},
   "outputs": [
    {
     "name": "stdout",
     "output_type": "stream",
     "text": [
      "0 1\n",
      "1 2\n",
      "2 3\n",
      "3 4\n",
      "4 5\n",
      "5 6\n",
      "6 7\n",
      "7 8\n",
      "8 9\n",
      "9 10\n"
     ]
    }
   ],
   "source": [
    "# i want to iterate with index \n",
    "for index, number in enumerate(numbers):   # if u want  index of numbers in python their are inbuild function we know index of list called enumerate \n",
    "    print(index, number)"
   ]
  },
  {
   "cell_type": "code",
   "execution_count": 77,
   "id": "192203f2",
   "metadata": {},
   "outputs": [
    {
     "name": "stdout",
     "output_type": "stream",
     "text": [
      "0\n",
      "1\n",
      "2\n",
      "3\n",
      "4\n",
      "5\n",
      "6\n",
      "7\n",
      "8\n",
      "9\n"
     ]
    }
   ],
   "source": [
    "# list comprehension \n",
    "for x in range(10):\n",
    "    print(x)"
   ]
  },
  {
   "cell_type": "code",
   "execution_count": null,
   "id": "0658ca1e",
   "metadata": {},
   "outputs": [
    {
     "name": "stdout",
     "output_type": "stream",
     "text": [
      "[0, 1, 4, 9, 16, 25, 36, 49, 64, 81]\n"
     ]
    }
   ],
   "source": [
    "lst=[]\n",
    "for x in range(10):\n",
    "    lst.append(x**2)\n",
    "    \n",
    "print(lst)\n",
    "     # jo lst that usko square karke append kar diya naya lst  bana diya ??"
   ]
  },
  {
   "cell_type": "code",
   "execution_count": null,
   "id": "bb698221",
   "metadata": {},
   "outputs": [
    {
     "data": {
      "text/plain": [
       "[0, 1, 4, 9, 16, 25, 36, 49, 64, 81]"
      ]
     },
     "execution_count": 80,
     "metadata": {},
     "output_type": "execute_result"
    }
   ],
   "source": [
    "[x **2 for x in range(10)]  # in above u have creating empty lst so more memory is required \n",
    "#list compresion  have 2 out input operatio and other is operation"
   ]
  },
  {
   "cell_type": "markdown",
   "id": "59207b0c",
   "metadata": {},
   "source": [
    "#list comprehension\n",
    "Baic syantax [expression for item in iterble ]\n",
    "with conditional logic [expression for item in iterable if conmdition]"
   ]
  },
  {
   "cell_type": "code",
   "execution_count": 81,
   "id": "cb63444f",
   "metadata": {},
   "outputs": [
    {
     "name": "stdout",
     "output_type": "stream",
     "text": [
      "[0, 1, 4, 9, 16, 25, 36, 49, 64, 81]\n"
     ]
    }
   ],
   "source": [
    "#Basic list comphression\n",
    "square =[num**2 for num in range(10)]\n",
    "print(square)"
   ]
  },
  {
   "cell_type": "code",
   "execution_count": 82,
   "id": "2f1a426b",
   "metadata": {},
   "outputs": [
    {
     "name": "stdout",
     "output_type": "stream",
     "text": [
      "[0, 2, 4, 6, 8]\n"
     ]
    }
   ],
   "source": [
    "#list comprehension with condition \n",
    "lst =[]\n",
    "for i in range(10):\n",
    "    if i % 2==0:\n",
    "        lst.append(i)\n",
    "print(lst)"
   ]
  },
  {
   "cell_type": "markdown",
   "id": "72ef41ca",
   "metadata": {},
   "source": [
    "same expresion i reprent \n"
   ]
  },
  {
   "cell_type": "code",
   "execution_count": 84,
   "id": "4d3b7e91",
   "metadata": {},
   "outputs": [
    {
     "name": "stdout",
     "output_type": "stream",
     "text": [
      "[0, 2, 4, 6, 8]\n"
     ]
    }
   ],
   "source": [
    "even_numbers = [ num for num in range(10) if num %2==0]\n",
    "print(even_numbers)"
   ]
  },
  {
   "cell_type": "code",
   "execution_count": 85,
   "id": "e4bc707f",
   "metadata": {},
   "outputs": [
    {
     "name": "stdout",
     "output_type": "stream",
     "text": [
      "[[1, 'a'], [1, 'b'], [1, 'c'], [1, 'd'], [2, 'a'], [2, 'b'], [2, 'c'], [2, 'd'], [3, 'a'], [3, 'b'], [3, 'c'], [3, 'd'], [5, 'a'], [5, 'b'], [5, 'c'], [5, 'd']]\n"
     ]
    }
   ],
   "source": [
    "#nested list comphression \n",
    "lst1= [1,2,3,5]\n",
    "lst2=['a','b','c','d']\n",
    "pair=[[i,j] for i in lst1 for j in lst2]\n",
    "print(pair)"
   ]
  },
  {
   "cell_type": "code",
   "execution_count": null,
   "id": "7e4735c8",
   "metadata": {},
   "outputs": [],
   "source": [
    "\n",
    "## List Comprehension with function calls\n",
    "words = [\"hello\", \"world\", \"python\", \"list\", \"comprehension\"]\n",
    "lengths = [len(word) for word in words]\n",
    "print(lengths)  # Output: [5, 5, 6, 4, 13]"
   ]
  },
  {
   "cell_type": "markdown",
   "id": "b41a8fa9",
   "metadata": {},
   "source": [
    "## Conclusion\n",
    "\n",
    "List comprehensions are a powerful and concise way to create lists in Python. They are syntactically compact and can replace more verbose looping constructs. Understanding the syntax of list comprehensions will help you write cleaner and more efficient Python code."
   ]
  }
 ],
 "metadata": {
  "kernelspec": {
   "display_name": "Python 3",
   "language": "python",
   "name": "python3"
  },
  "language_info": {
   "codemirror_mode": {
    "name": "ipython",
    "version": 3
   },
   "file_extension": ".py",
   "mimetype": "text/x-python",
   "name": "python",
   "nbconvert_exporter": "python",
   "pygments_lexer": "ipython3",
   "version": "3.13.4"
  }
 },
 "nbformat": 4,
 "nbformat_minor": 5
}
