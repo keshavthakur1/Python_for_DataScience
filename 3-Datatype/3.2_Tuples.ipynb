{
 "cells": [
  {
   "cell_type": "markdown",
   "id": "63400763",
   "metadata": {},
   "source": [
    "# Introduction to tuples\n",
    "\n"
   ]
  },
  {
   "cell_type": "markdown",
   "id": "6eefed1f",
   "metadata": {},
   "source": [
    "Explanation:\n",
    "Tuples are ordered collections of items that are immutable. they are similar to list,but their immutability makes them different.\n"
   ]
  },
  {
   "cell_type": "code",
   "execution_count": 3,
   "id": "921db26d",
   "metadata": {},
   "outputs": [
    {
     "name": "stdout",
     "output_type": "stream",
     "text": [
      "()\n",
      "<class 'tuple'>\n"
     ]
    }
   ],
   "source": [
    "#creating a tuple\n",
    "empty_tuple=()\n",
    "print(empty_tuple)\n",
    "print(type(empty_tuple))"
   ]
  },
  {
   "cell_type": "code",
   "execution_count": null,
   "id": "4a60442d",
   "metadata": {},
   "outputs": [
    {
     "name": "stdout",
     "output_type": "stream",
     "text": [
      "<class 'list'>\n",
      "<class 'tuple'>\n"
     ]
    }
   ],
   "source": [
    "lst =list()\n",
    "print(type(lst))\n",
    "tpl=tuple()   \n",
    "print(type(tpl))   \n",
    "# inside this you can put  item \n"
   ]
  },
  {
   "cell_type": "code",
   "execution_count": 7,
   "id": "58b8ffae",
   "metadata": {},
   "outputs": [
    {
     "data": {
      "text/plain": [
       "(1, 2, 3, 4, 5, 6)"
      ]
     },
     "execution_count": 7,
     "metadata": {},
     "output_type": "execute_result"
    }
   ],
   "source": [
    "number= tuple([1,2,3,4,5,6])\n",
    "number"
   ]
  },
  {
   "cell_type": "code",
   "execution_count": 8,
   "id": "65464aee",
   "metadata": {},
   "outputs": [
    {
     "data": {
      "text/plain": [
       "[1, 2, 3, 4, 5, 6]"
      ]
     },
     "execution_count": 8,
     "metadata": {},
     "output_type": "execute_result"
    }
   ],
   "source": [
    "#list can be converted into tuple and tuple can be converted into list \n",
    "list((1,2,3,4,5,6))\n"
   ]
  },
  {
   "cell_type": "code",
   "execution_count": 9,
   "id": "6dd59d3d",
   "metadata": {},
   "outputs": [
    {
     "name": "stdout",
     "output_type": "stream",
     "text": [
      "(1, 'hello world', 3.14, True)\n"
     ]
    }
   ],
   "source": [
    "mixed_tuple=(1,\"hello world\", 3.14, True)\n",
    "print(mixed_tuple)"
   ]
  },
  {
   "cell_type": "code",
   "execution_count": 10,
   "id": "44658741",
   "metadata": {},
   "outputs": [
    {
     "data": {
      "text/plain": [
       "(1, 2, 3, 4, 5, 6)"
      ]
     },
     "execution_count": 10,
     "metadata": {},
     "output_type": "execute_result"
    }
   ],
   "source": [
    "number"
   ]
  },
  {
   "cell_type": "code",
   "execution_count": 11,
   "id": "54ec3846",
   "metadata": {},
   "outputs": [
    {
     "name": "stdout",
     "output_type": "stream",
     "text": [
      "3\n"
     ]
    }
   ],
   "source": [
    "print(number[2])"
   ]
  },
  {
   "cell_type": "code",
   "execution_count": null,
   "id": "b6feabdf",
   "metadata": {},
   "outputs": [
    {
     "data": {
      "text/plain": [
       "(2, 3, 4)"
      ]
     },
     "execution_count": 13,
     "metadata": {},
     "output_type": "execute_result"
    }
   ],
   "source": [
    "number[1:4]  #like list we can do slicing as list "
   ]
  },
  {
   "cell_type": "code",
   "execution_count": null,
   "id": "1a426f04",
   "metadata": {},
   "outputs": [
    {
     "name": "stdout",
     "output_type": "stream",
     "text": [
      "(1, 2, 3, 4, 5, 6, 1, 'hello world', 3.14, True)\n"
     ]
    }
   ],
   "source": [
    "# we can do concatenated tuple \n",
    "cancanate_tuple = number + mixed_tuple\n",
    "print(cancanate_tuple)"
   ]
  },
  {
   "cell_type": "code",
   "execution_count": 15,
   "id": "508e0c41",
   "metadata": {},
   "outputs": [
    {
     "data": {
      "text/plain": [
       "(1, 2, 3, 4, 5, 6, 1, 2, 3, 4, 5, 6, 1, 2, 3, 4, 5, 6)"
      ]
     },
     "execution_count": 15,
     "metadata": {},
     "output_type": "execute_result"
    }
   ],
   "source": [
    "number*3\n"
   ]
  },
  {
   "cell_type": "code",
   "execution_count": 17,
   "id": "c729a3e9",
   "metadata": {},
   "outputs": [
    {
     "name": "stdout",
     "output_type": "stream",
     "text": [
      "[1, 2, 3, 4, 5]\n",
      "[1, 'krish', 3, 4, 5]\n"
     ]
    }
   ],
   "source": [
    "#imutable nature of tuple\n",
    "lst=[1,2,3,4,5]\n",
    "print(lst)\n",
    "\n",
    "lst[1]=\"krish\"\n",
    "print(lst)"
   ]
  },
  {
   "cell_type": "code",
   "execution_count": 18,
   "id": "631473ee",
   "metadata": {},
   "outputs": [
    {
     "ename": "TypeError",
     "evalue": "'tuple' object does not support item assignment",
     "output_type": "error",
     "traceback": [
      "\u001b[31m---------------------------------------------------------------------------\u001b[39m",
      "\u001b[31mTypeError\u001b[39m                                 Traceback (most recent call last)",
      "\u001b[36mCell\u001b[39m\u001b[36m \u001b[39m\u001b[32mIn[18]\u001b[39m\u001b[32m, line 2\u001b[39m\n\u001b[32m      1\u001b[39m \u001b[38;5;66;03m# if i want to do similar operation with tuple \u001b[39;00m\n\u001b[32m----> \u001b[39m\u001b[32m2\u001b[39m \u001b[43mnumber\u001b[49m\u001b[43m[\u001b[49m\u001b[32;43m1\u001b[39;49m\u001b[43m]\u001b[49m=\u001b[33m\"\u001b[39m\u001b[33mkrish\u001b[39m\u001b[33m\"\u001b[39m\n",
      "\u001b[31mTypeError\u001b[39m: 'tuple' object does not support item assignment"
     ]
    }
   ],
   "source": [
    "# if i want to do similar operation with tuple \n",
    "number[1]=\"krish\""
   ]
  },
  {
   "cell_type": "code",
   "execution_count": null,
   "id": "097e8b96",
   "metadata": {},
   "outputs": [
    {
     "name": "stdout",
     "output_type": "stream",
     "text": [
      "1\n",
      "2\n"
     ]
    }
   ],
   "source": [
    "#Tuple method\n",
    "print(number.count(1)) # how many time that element present\n",
    "print(number.index(3)) # where 3 element id present in the index "
   ]
  },
  {
   "cell_type": "code",
   "execution_count": null,
   "id": "d06ce0d0",
   "metadata": {},
   "outputs": [
    {
     "name": "stdout",
     "output_type": "stream",
     "text": [
      "(1, 'hello', 3.14)\n"
     ]
    }
   ],
   "source": [
    "#packing and unpacking tuple\n",
    "packed_tuple=1,\"hello\",3.14\n",
    "print(packed_tuple)   # when ever their is comma seperate i gis given in packed format"
   ]
  },
  {
   "cell_type": "code",
   "execution_count": 23,
   "id": "0517a99b",
   "metadata": {},
   "outputs": [
    {
     "name": "stdout",
     "output_type": "stream",
     "text": [
      "1\n",
      "hello\n",
      "3.14\n"
     ]
    }
   ],
   "source": [
    "#unpacking a tuple\n",
    "a,b,c = packed_tuple\n",
    "print(a)\n",
    "print(b)\n",
    "print(c)"
   ]
  },
  {
   "cell_type": "code",
   "execution_count": 26,
   "id": "1cf47b40",
   "metadata": {},
   "outputs": [
    {
     "name": "stdout",
     "output_type": "stream",
     "text": [
      "1\n",
      "2 3 4 5\n",
      "[2, 3, 4, 5]\n",
      "6\n"
     ]
    }
   ],
   "source": [
    "#unpacking with *\n",
    "numbers =(1,2,3,4,5,6)\n",
    "first, *middle, last= numbers   # i know 6 element are their but i am unpacking with variable \n",
    "print(first)\n",
    "print(*middle)\n",
    "print(middle)\n",
    "\n",
    "print(last)"
   ]
  },
  {
   "cell_type": "code",
   "execution_count": 34,
   "id": "befc99d9",
   "metadata": {},
   "outputs": [
    {
     "data": {
      "text/plain": [
       "[1, 'hello', 3.14]"
      ]
     },
     "execution_count": 34,
     "metadata": {},
     "output_type": "execute_result"
    }
   ],
   "source": [
    "##Nested Tuple \n",
    "#tuple inside tuple is nested tuple \n",
    "lst=[[1,2,3,4],[1,\"hello\",3.14,\"c\"]]\n",
    "lst[0][2]\n",
    "#similarly u can apply slicing operation on nested list too \n",
    "lst[1][0:3]\n"
   ]
  },
  {
   "cell_type": "code",
   "execution_count": 5,
   "id": "3b42d773",
   "metadata": {},
   "outputs": [
    {
     "name": "stdout",
     "output_type": "stream",
     "text": [
      "(1, 2, 3)\n",
      "c\n"
     ]
    }
   ],
   "source": [
    "nested_tuple=((1,2,3),(\"a\",\"b\",\"c\"),(True,False))\n",
    "print(nested_tuple[0])\n",
    "print(nested_tuple[1][2])\n"
   ]
  },
  {
   "cell_type": "code",
   "execution_count": 6,
   "id": "8bfac7d1",
   "metadata": {},
   "outputs": [
    {
     "name": "stdout",
     "output_type": "stream",
     "text": [
      "1\n",
      "2\n",
      "3\n",
      "\n",
      "a\n",
      "b\n",
      "c\n",
      "\n",
      "True\n",
      "False\n",
      "\n"
     ]
    }
   ],
   "source": [
    "#iterating over nested tuple\n",
    "for sub_tuple in nested_tuple:\n",
    "    for item in sub_tuple:\n",
    "        print(item)\n",
    "    print()\n",
    "        "
   ]
  },
  {
   "cell_type": "markdown",
   "id": "b9d0f202",
   "metadata": {},
   "source": [
    "# Conclusion"
   ]
  },
  {
   "cell_type": "markdown",
   "id": "0b3da4c5",
   "metadata": {},
   "source": [
    "Truples are versatile and useful in many real-world scenerios where an imutable and ordered collection items is required. they are commonly used in data structures, function argument and return values, dictionary keys. Understanding how to leaverage tuples effectively can improve the efficently and readablity in your python code."
   ]
  }
 ],
 "metadata": {
  "kernelspec": {
   "display_name": "Python 3",
   "language": "python",
   "name": "python3"
  },
  "language_info": {
   "codemirror_mode": {
    "name": "ipython",
    "version": 3
   },
   "file_extension": ".py",
   "mimetype": "text/x-python",
   "name": "python",
   "nbconvert_exporter": "python",
   "pygments_lexer": "ipython3",
   "version": "3.13.4"
  }
 },
 "nbformat": 4,
 "nbformat_minor": 5
}
