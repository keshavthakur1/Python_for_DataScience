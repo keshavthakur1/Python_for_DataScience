{
 "cells": [
  {
   "cell_type": "markdown",
   "id": "630e47d8",
   "metadata": {},
   "source": [
    "set are the data type in python used to store collections of unique items. They are unordered meaning \n",
    " meaning that the element do not follow a specific order, and they do not allow duplicate elements. Sets are useful for members, elimating duplicate entries, and performing mathematical set operations like union, intersection and symmetric difference.\n",
    " "
   ]
  },
  {
   "cell_type": "markdown",
   "id": "92d0e2ee",
   "metadata": {},
   "source": [
    "# create a set "
   ]
  },
  {
   "cell_type": "code",
   "execution_count": null,
   "id": "4ce608e7",
   "metadata": {},
   "outputs": [
    {
     "name": "stdout",
     "output_type": "stream",
     "text": [
      "{1, 2, 3, 4, 5}\n",
      "<class 'set'>\n"
     ]
    }
   ],
   "source": [
    "my_set={1,2,3,4,5}\n",
    "print(my_set)\n",
    "print(type(my_set))\n"
   ]
  },
  {
   "cell_type": "code",
   "execution_count": 3,
   "id": "ed34fe59",
   "metadata": {},
   "outputs": [
    {
     "name": "stdout",
     "output_type": "stream",
     "text": [
      "{}\n"
     ]
    }
   ],
   "source": [
    "my_empty_set ={}\n",
    "print(my_empty_set)"
   ]
  },
  {
   "cell_type": "code",
   "execution_count": null,
   "id": "68a3e8ce",
   "metadata": {},
   "outputs": [
    {
     "name": "stdout",
     "output_type": "stream",
     "text": [
      "{1, 2, 3, 4, 5, 6}\n"
     ]
    }
   ],
   "source": [
    "# if my set have duplicate element they will me unqiue element\n",
    "\n",
    "my_empty_set=set([1,2,3,4,5,6,6,6,6])\n",
    "print(my_empty_set)"
   ]
  },
  {
   "cell_type": "code",
   "execution_count": 10,
   "id": "b5562107",
   "metadata": {},
   "outputs": [
    {
     "name": "stdout",
     "output_type": "stream",
     "text": [
      "{1, 2, 3, 4, 5, 7}\n"
     ]
    }
   ],
   "source": [
    "#Basic sets opeations\n",
    "#adding and removing elements\n",
    "my_set.add(7)\n",
    "print(my_set)"
   ]
  },
  {
   "cell_type": "code",
   "execution_count": null,
   "id": "5dcf0c7e",
   "metadata": {},
   "outputs": [
    {
     "name": "stdout",
     "output_type": "stream",
     "text": [
      "{1, 2, 4, 5, 7}\n"
     ]
    }
   ],
   "source": [
    "#remove the elements from a set \n",
    "my_set.remove(3)\n",
    "print(my_set)\n",
    "\n",
    "# if removing element is not present in  u got error \n"
   ]
  },
  {
   "cell_type": "code",
   "execution_count": null,
   "id": "b4e520cd",
   "metadata": {},
   "outputs": [
    {
     "name": "stdout",
     "output_type": "stream",
     "text": [
      "{1, 2, 4, 5, 7}\n",
      "{1, 4, 5, 7}\n"
     ]
    }
   ],
   "source": [
    "my_set.discard(11)\n",
    "print(my_set)\n",
    "my_set.discard(2)\n",
    "print(my_set)\n",
    "#The discard() method removes the specified item from the set.\n",
    "\n",
    "\n"
   ]
  },
  {
   "cell_type": "code",
   "execution_count": null,
   "id": "949c6dc6",
   "metadata": {},
   "outputs": [
    {
     "ename": "KeyError",
     "evalue": "'pop from an empty set'",
     "output_type": "error",
     "traceback": [
      "\u001b[31m---------------------------------------------------------------------------\u001b[39m",
      "\u001b[31mKeyError\u001b[39m                                  Traceback (most recent call last)",
      "\u001b[36mCell\u001b[39m\u001b[36m \u001b[39m\u001b[32mIn[18]\u001b[39m\u001b[32m, line 2\u001b[39m\n\u001b[32m      1\u001b[39m \u001b[38;5;66;03m# removing the random item \u001b[39;00m\n\u001b[32m----> \u001b[39m\u001b[32m2\u001b[39m remove_element = \u001b[43mmy_set\u001b[49m\u001b[43m.\u001b[49m\u001b[43mpop\u001b[49m\u001b[43m(\u001b[49m\u001b[43m)\u001b[49m\n\u001b[32m      3\u001b[39m \u001b[38;5;28mprint\u001b[39m(remove_element)\n",
      "\u001b[31mKeyError\u001b[39m: 'pop from an empty set'"
     ]
    }
   ],
   "source": [
    "# removing the random item \n",
    "remove_element = my_set.pop()\n",
    "print(remove_element)\n",
    "# if u run one they remove one element but u will run multiple time they will remove all thje elemets  "
   ]
  },
  {
   "cell_type": "code",
   "execution_count": 21,
   "id": "f5390a43",
   "metadata": {},
   "outputs": [
    {
     "name": "stdout",
     "output_type": "stream",
     "text": [
      "{1, 2, 3, 4, 5}\n",
      "set()\n"
     ]
    }
   ],
   "source": [
    "#clear all the elelment\n",
    "my_set ={1,2,3,4,5}\n",
    "print(my_set)\n",
    "my_set.clear()\n",
    "print(my_set)"
   ]
  },
  {
   "cell_type": "code",
   "execution_count": 23,
   "id": "72eb2151",
   "metadata": {},
   "outputs": [
    {
     "name": "stdout",
     "output_type": "stream",
     "text": [
      "True\n",
      "False\n"
     ]
    }
   ],
   "source": [
    "#set membership TextDisplayObject\n",
    "my_set={1,2,3,4,5}\n",
    "print(3 in my_set) # true\n",
    "print(10 in my_set)"
   ]
  },
  {
   "cell_type": "code",
   "execution_count": 27,
   "id": "919e6c6b",
   "metadata": {},
   "outputs": [
    {
     "name": "stdout",
     "output_type": "stream",
     "text": [
      "{1, 2, 3, 4, 5, 6, 7, 8, 9}\n",
      "{4, 5, 6}\n",
      "{4, 5, 6}\n"
     ]
    }
   ],
   "source": [
    "#mathematical operation\n",
    "set1 ={1,2,3,4,5,6}\n",
    "set2 ={4,5,6,7,8,9}\n",
    "\n",
    "#union\n",
    "union_set=set1.union(set2) # after presing . u got multiple method one of method is union \n",
    "print(union_set)\n",
    "\n",
    "#intersectioin\n",
    "intersection_set =set1.intersection(set2)\n",
    "print(intersection_set)\n",
    "\n",
    "\n",
    "#u got intersection update set \n",
    "set1.intersection_update(set2)\n",
    "print(set1)\n",
    "\n",
    "#"
   ]
  },
  {
   "cell_type": "code",
   "execution_count": null,
   "id": "4b29ded0",
   "metadata": {},
   "outputs": [
    {
     "name": "stdout",
     "output_type": "stream",
     "text": [
      "{1, 2, 3}\n",
      "{8, 9, 7}\n"
     ]
    }
   ],
   "source": [
    "set1 ={1,2,3,4,5,6}\n",
    "set2 ={4,5,6,7,8,9}\n",
    "\n",
    "#difference \n",
    "set1.difference(set2)\n",
    "print(set1.difference(set2))\n",
    "\n",
    "\n",
    "#simlarly for set2\n",
    "print(set2.difference(set1))  # jo set se aapko difference karna hai ushko bracket me rakhna hai \n"
   ]
  },
  {
   "cell_type": "code",
   "execution_count": null,
   "id": "bba45204",
   "metadata": {},
   "outputs": [
    {
     "data": {
      "text/plain": [
       "{1, 2, 3, 7, 8, 9}"
      ]
     },
     "execution_count": 30,
     "metadata": {},
     "output_type": "execute_result"
    }
   ],
   "source": [
    "#symetric difference \n",
    "set1.symmetric_difference(set2)   # both the unqiue element will combine ,, similarly do set2\n",
    "\n"
   ]
  },
  {
   "cell_type": "code",
   "execution_count": 32,
   "id": "8c6e78b7",
   "metadata": {},
   "outputs": [
    {
     "name": "stdout",
     "output_type": "stream",
     "text": [
      "False\n",
      "False\n"
     ]
    }
   ],
   "source": [
    "#set methodds\n",
    "set1 ={1,2,3}\n",
    "set2 ={3,4,5}\n",
    "\n",
    "#is subset\n",
    "print(set1.issubset(set2))   # is all the elemet of set1 is present in set2 ?? if yes they give they true if not they  false\n",
    "\n",
    "print(set1.issuperset(set2))"
   ]
  },
  {
   "cell_type": "code",
   "execution_count": 33,
   "id": "ee305789",
   "metadata": {},
   "outputs": [
    {
     "name": "stdout",
     "output_type": "stream",
     "text": [
      "{1, 2, 3, 4, 5}\n"
     ]
    }
   ],
   "source": [
    "lt =[1,2,2,3,4,4,5]\n",
    "# actually u have list of element u want to find uniue element how u can \n",
    "# just convert into set\n",
    "print(set(lt))"
   ]
  },
  {
   "cell_type": "code",
   "execution_count": 36,
   "id": "713bb91d",
   "metadata": {},
   "outputs": [
    {
     "name": "stdout",
     "output_type": "stream",
     "text": [
      "['in', 'this', 'tutorial', 'we', 'are', 'discussing', 'abouts', 'sets']\n",
      "{'abouts', 'we', 'discussing', 'in', 'this', 'sets', 'tutorial', 'are'}\n",
      "8\n"
     ]
    }
   ],
   "source": [
    "# counting unqiue word in text \n",
    "test =\"in this tutorial we are discussing abouts sets\"\n",
    "word = test.split()\n",
    "print(word)\n",
    "\n",
    "\n",
    "\n",
    "# convert list of word to set get unqiue words \n",
    "unique_words=set(word)\n",
    "print(unique_words)\n",
    "print(len(unique_words))"
   ]
  },
  {
   "cell_type": "markdown",
   "id": "71363ade",
   "metadata": {},
   "source": [
    "## Conclusion\n",
    "Sets are a powerful and flexible data type in Python that provide a way to store collections of unique elements. They support various operations such as union, intersection, difference, and symmetric difference, which are useful for mathematical computations. Understanding how to use sets and their associated methods can help you write more efficient and clean Python code, especially when dealing with unique collections and membership tests."
   ]
  }
 ],
 "metadata": {
  "kernelspec": {
   "display_name": "Python 3",
   "language": "python",
   "name": "python3"
  },
  "language_info": {
   "codemirror_mode": {
    "name": "ipython",
    "version": 3
   },
   "file_extension": ".py",
   "mimetype": "text/x-python",
   "name": "python",
   "nbconvert_exporter": "python",
   "pygments_lexer": "ipython3",
   "version": "3.13.4"
  }
 },
 "nbformat": 4,
 "nbformat_minor": 5
}
