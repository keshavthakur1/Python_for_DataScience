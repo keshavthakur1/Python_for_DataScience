{
 "cells": [
  {
   "cell_type": "markdown",
   "id": "4a102c9c",
   "metadata": {},
   "source": [
    "#Outline:\n"
   ]
  },
  {
   "cell_type": "markdown",
   "id": "cb41e1b8",
   "metadata": {},
   "source": [
    "Introduction to distionaries\n",
    "creating dictionaries\n",
    "Acessing dictionary elements\n",
    "modifying dictionary methods\n",
    "distionary methods \n",
    "Iterating over dictionaries \n",
    "nested dictionaries \n",
    "disctionary comprehensions\n",
    "practical exam and common errors\n"
   ]
  },
  {
   "cell_type": "markdown",
   "id": "4ddc377b",
   "metadata": {},
   "source": [
    "Introduction to dictionaries "
   ]
  },
  {
   "cell_type": "markdown",
   "id": "4576f009",
   "metadata": {},
   "source": [
    "Dictionaries are unordered collections of item . They store data in key-value pairs. Keys must be unquie and immutable (e.g string, tuple), while value can be of any type\n"
   ]
  },
  {
   "cell_type": "code",
   "execution_count": 1,
   "id": "4e1f2cdd",
   "metadata": {},
   "outputs": [
    {
     "name": "stdout",
     "output_type": "stream",
     "text": [
      "<class 'dict'>\n"
     ]
    }
   ],
   "source": [
    "#creating dictionaries \n",
    "empty_dict ={}\n",
    "print(type((empty_dict)))"
   ]
  },
  {
   "cell_type": "code",
   "execution_count": null,
   "id": "676e28ca",
   "metadata": {},
   "outputs": [
    {
     "data": {
      "text/plain": [
       "{}"
      ]
     },
     "execution_count": 10,
     "metadata": {},
     "output_type": "execute_result"
    }
   ],
   "source": [
    "empty_dict = dict()\n",
    "empty_dict  # so these are ways we can print dictionaries \n"
   ]
  },
  {
   "cell_type": "code",
   "execution_count": null,
   "id": "f3ad405f",
   "metadata": {},
   "outputs": [
    {
     "name": "stdout",
     "output_type": "stream",
     "text": [
      "{'name': 'keshav', 'age': 32, 'grade': 24}\n",
      "<class 'dict'>\n"
     ]
    }
   ],
   "source": [
    "student ={\"name\":\"keshav\", \"age\":32, \"grade\":24}   # creating dict\n",
    "print(student)\n",
    "print(type(student))"
   ]
  },
  {
   "cell_type": "code",
   "execution_count": null,
   "id": "ade5e7bc",
   "metadata": {},
   "outputs": [
    {
     "name": "stdout",
     "output_type": "stream",
     "text": [
      "{'name': 23, 'age': 32}\n"
     ]
    }
   ],
   "source": [
    "# Error \n",
    "students ={\"name\":\"krish\", \"age\":32, \"name\":23}\n",
    "print(students)  #{'name': 23, 'age': 32}  # so key must be unique #single key is always used \n",
    "\n"
   ]
  },
  {
   "cell_type": "code",
   "execution_count": 4,
   "id": "40bd9a5b",
   "metadata": {},
   "outputs": [
    {
     "name": "stdout",
     "output_type": "stream",
     "text": [
      "{'name': 'keshav', 'age': 32, 'grade': 'A'}\n"
     ]
    }
   ],
   "source": [
    "#acessing dictorinary element\n",
    "student ={\"name\":\"keshav\", \"age\":32, \"grade\":'A'}   # creating dict\n",
    "\n",
    "print(student )"
   ]
  },
  {
   "cell_type": "code",
   "execution_count": null,
   "id": "16566f9d",
   "metadata": {},
   "outputs": [
    {
     "name": "stdout",
     "output_type": "stream",
     "text": [
      "A\n",
      "32\n",
      "A\n",
      "32\n",
      "None\n",
      "not available\n"
     ]
    }
   ],
   "source": [
    "print(student[\"grade\"]) # aceesing key \n",
    "print(student['age'])\n",
    "\n",
    "#acessing using get() method \n",
    "print(student.get('grade'))\n",
    "print(student.get('age'))\n",
    "print(student.get('last_name'))   # you got none\n",
    "\n",
    "print(student.get('last_name', \"not available\"))  # before its was given last now set be not available now its give  not available "
   ]
  },
  {
   "cell_type": "code",
   "execution_count": 8,
   "id": "01c353fd",
   "metadata": {},
   "outputs": [
    {
     "name": "stdout",
     "output_type": "stream",
     "text": [
      "{'name': 'keshav', 'age': 32, 'grade': 'A'}\n"
     ]
    }
   ],
   "source": [
    "#MOdifying dicitionary elements\n",
    "#dictionary are mutable , so you can add, update or delete elements\n",
    "print(student)"
   ]
  },
  {
   "cell_type": "code",
   "execution_count": null,
   "id": "a2223fa4",
   "metadata": {},
   "outputs": [
    {
     "name": "stdout",
     "output_type": "stream",
     "text": [
      "{'name': 'keshav', 'age': 33, 'grade': 'A', 'address': 'India'}\n"
     ]
    }
   ],
   "source": [
    "student['age']=33  # add is update to 33\n",
    "print(student)\n",
    "student['address']='India'  # add new key value"
   ]
  },
  {
   "cell_type": "code",
   "execution_count": 15,
   "id": "7e6ff5ba",
   "metadata": {},
   "outputs": [
    {
     "name": "stdout",
     "output_type": "stream",
     "text": [
      "{'name': 'keshav', 'address': 'India'}\n"
     ]
    }
   ],
   "source": [
    "# delete the key \n",
    "del student['age']\n",
    "print(student)"
   ]
  },
  {
   "cell_type": "code",
   "execution_count": null,
   "id": "bdc7f48b",
   "metadata": {},
   "outputs": [
    {
     "name": "stdout",
     "output_type": "stream",
     "text": [
      "dict_keys(['name', 'address'])\n",
      "{'name': 'keshav', 'address': 'India'}\n",
      "dict_items([('name', 'keshav'), ('address', 'India')])\n"
     ]
    }
   ],
   "source": [
    "## Common dictionary method \n",
    "# if u want to need keys of dic \n",
    "keys =student.keys()\n",
    "print(keys)\n",
    "# similarly if u want to need values of dic\n",
    "values = student.values()\n",
    "print(student)\n",
    "\n",
    "items =student.items()  # u got all the item of dic\n",
    "print(items)"
   ]
  },
  {
   "cell_type": "code",
   "execution_count": 25,
   "id": "be8d95db",
   "metadata": {},
   "outputs": [
    {
     "name": "stdout",
     "output_type": "stream",
     "text": [
      "{'name': 'keshav', 'address': 'India'}\n",
      "{'name': 'keshav', 'address': 'India'}\n"
     ]
    }
   ],
   "source": [
    "#shallow copy \n",
    "student_copy=student #what i am doing here i am just copy item od student in student_copy\n",
    "print(student)\n",
    "print(student_copy)"
   ]
  },
  {
   "cell_type": "code",
   "execution_count": 45,
   "id": "9916b786",
   "metadata": {},
   "outputs": [
    {
     "name": "stdout",
     "output_type": "stream",
     "text": [
      "{'name': 'krish', 'address': 'India'}\n",
      "{'name': 'krish', 'address': 'India'}\n"
     ]
    }
   ],
   "source": [
    "student[\"name\"]=\"krish\"\n",
    "print(student)\n",
    "print(student_copy)   # i am assiging the value of name in student not in student_copy but output is change in student_copy too why its problem"
   ]
  },
  {
   "cell_type": "code",
   "execution_count": null,
   "id": "d15ca099",
   "metadata": {},
   "outputs": [
    {
     "name": "stdout",
     "output_type": "stream",
     "text": [
      "{'name': 'krish', 'address': 'India'}\n",
      "{'name': 'krish', 'address': 'India'}\n",
      "{'name': 'krish', 'address': 'India'}\n",
      "{'name': 'krish4', 'address': 'India'}\n"
     ]
    }
   ],
   "source": [
    "student_copy1 =student.copy()  #this copy is responsible for different memory\n",
    "print(student)\n",
    "print(student_copy1)  \n",
    "\n",
    "#now will update\n",
    "student[\"name\"]=\"krish4\"\n",
    "print(student_copy1)  \n",
    "print(student)\n",
    "# does they both got same name ?? no bcz of sallow copy \n",
    "\n",
    "\n"
   ]
  },
  {
   "cell_type": "markdown",
   "id": "ecdb4fd7",
   "metadata": {},
   "source": [
    "SALLOW COPY  provide a different memory loaction so that whenever we change one of the variabl eit should not impact the other one.\n"
   ]
  },
  {
   "cell_type": "code",
   "execution_count": null,
   "id": "c5038a35",
   "metadata": {},
   "outputs": [
    {
     "name": "stdout",
     "output_type": "stream",
     "text": [
      "name\n",
      "address\n",
      "krish4\n",
      "India\n"
     ]
    }
   ],
   "source": [
    "#Iterating over dictionaries\n",
    "# u can use loop to iterate over dictionaries, keys, values, or items\n",
    "\n",
    "#iterating over keys\n",
    "for keys in student.keys():\n",
    "   print(keys)\n",
    "   \n"
   ]
  },
  {
   "cell_type": "code",
   "execution_count": 54,
   "id": "7d50719a",
   "metadata": {},
   "outputs": [
    {
     "name": "stdout",
     "output_type": "stream",
     "text": [
      "krish4\n",
      "India\n"
     ]
    }
   ],
   "source": [
    "#similarly u can iterate over a value \n",
    "for values in student.values():\n",
    "     print(values)"
   ]
  },
  {
   "cell_type": "code",
   "execution_count": null,
   "id": "71c333f8",
   "metadata": {},
   "outputs": [
    {
     "name": "stdout",
     "output_type": "stream",
     "text": [
      "name :krish4\n",
      "address :India\n"
     ]
    }
   ],
   "source": [
    "# iterate over keys values pair \n",
    "for keys, values in student.items():\n",
    "    print(f'{keys} :{values}')"
   ]
  },
  {
   "cell_type": "code",
   "execution_count": 57,
   "id": "d176dfad",
   "metadata": {},
   "outputs": [
    {
     "name": "stdout",
     "output_type": "stream",
     "text": [
      "{'student': {'name': 'Krish', 'age': 34}, 'student2': {'name': 'peter', 'age': 35}}\n"
     ]
    }
   ],
   "source": [
    "#nested disctionaries\n",
    "student={\n",
    "    \"student\":{\"name\":\"Krish\", \"age\":34},\n",
    "    \"student2\":{\"name\":\"peter\", \"age\":35}\n",
    "}\n",
    "print(student)"
   ]
  },
  {
   "cell_type": "code",
   "execution_count": 58,
   "id": "3c2d3033",
   "metadata": {},
   "outputs": [
    {
     "name": "stdout",
     "output_type": "stream",
     "text": [
      "peter\n",
      "35\n"
     ]
    }
   ],
   "source": [
    "#acess nested dictionaries elements\n",
    "print(student[\"student2\"][\"name\"])\n",
    "print(student[\"student2\"][\"age\"])"
   ]
  },
  {
   "cell_type": "code",
   "execution_count": 64,
   "id": "96be5236",
   "metadata": {},
   "outputs": [
    {
     "name": "stdout",
     "output_type": "stream",
     "text": [
      "student:{'name': 'Krish', 'age': 34}\n",
      "name:Krish\n",
      "age:34\n",
      "student2:{'name': 'peter', 'age': 35}\n",
      "name:peter\n",
      "age:35\n"
     ]
    }
   ],
   "source": [
    "#ITERATING OVER NESTED DISCTIONARIES\n",
    "for student_id, student_info in student.items():\n",
    "    print(f\"{student_id}:{student_info}\")\n",
    "    for key, value in student_info.items():\n",
    "        print(f\"{key}:{value}\")\n",
    "    \n",
    "    "
   ]
  },
  {
   "cell_type": "code",
   "execution_count": 67,
   "id": "4d5a77a1",
   "metadata": {},
   "outputs": [
    {
     "name": "stdout",
     "output_type": "stream",
     "text": [
      "{0: 0, 1: 1, 2: 4, 3: 9, 4: 16}\n"
     ]
    }
   ],
   "source": [
    "#Dictionary comphrehension\n",
    "squares={x:x**2 for x in range(5)}\n",
    "print(squares)\n",
    "\n",
    "\n"
   ]
  },
  {
   "cell_type": "code",
   "execution_count": null,
   "id": "c7874103",
   "metadata": {},
   "outputs": [
    {
     "name": "stdout",
     "output_type": "stream",
     "text": [
      "{0: 0, 2: 4, 4: 16, 6: 36, 8: 64}\n"
     ]
    }
   ],
   "source": [
    "#condition dictionary comprehension \n",
    "evens ={x:x**2 for x in range(10) if x % 2==0}\n",
    "print(evens)  # SQUARE OF  EVEN NO \n"
   ]
  },
  {
   "cell_type": "code",
   "execution_count": 70,
   "id": "19fff319",
   "metadata": {},
   "outputs": [
    {
     "name": "stdout",
     "output_type": "stream",
     "text": [
      "{1: 1, 2: 2, 3: 3, 4: 4}\n"
     ]
    }
   ],
   "source": [
    "# PRACTERICAL EXAMPLE \n",
    "## USED A DICTIONARY TO COUNT THE FREQUENCY OF ELEMENTS IN LIST \n",
    "number =[1,2,2,3,3,3,4,4,4,4]\n",
    "frequency ={}\n",
    "\n",
    "for number in number:\n",
    "    if number in frequency:\n",
    "        frequency[number]+=1\n",
    "    else:\n",
    "        frequency[number]=1\n",
    "print(frequency)"
   ]
  },
  {
   "cell_type": "code",
   "execution_count": 1,
   "id": "06c65577",
   "metadata": {},
   "outputs": [
    {
     "name": "stdout",
     "output_type": "stream",
     "text": [
      "{'a': 1, 'b': 3, 'c': 4}\n"
     ]
    },
    {
     "data": {
      "text/plain": [
       "'**dict1 unpacks the key-value pairs of dict1 into the new dictionary.\\n\\n**dict2 unpacks the key-value pairs of dict2 into the same dictionary after dict1.\\n\\nIf there are overlapping keys (like \"b\" here), the last one wins. So, \"b\": 3 from dict2 overwrites \"b\": 2 from dict1.'"
      ]
     },
     "execution_count": 1,
     "metadata": {},
     "output_type": "execute_result"
    }
   ],
   "source": [
    "#merge 2 dictionaries into one \n",
    "dict1 ={\"a\":1,\"b\":2}\n",
    "dict2 ={\"b\":3,\"c\":4}\n",
    "merge_dict={**dict1, **dict2} ##Meaning of **dict1 and **dict2:\n",
    "print(merge_dict)\n",
    "\n",
    "\"\"\"**dict1 unpacks the key-value pairs of dict1 into the new dictionary.\n",
    "\n",
    "**dict2 unpacks the key-value pairs of dict2 into the same dictionary after dict1.\n",
    "\n",
    "If there are overlapping keys (like \"b\" here), the last one wins. So, \"b\": 3 from dict2 overwrites \"b\": 2 from dict1.\"\"\"\n"
   ]
  },
  {
   "cell_type": "markdown",
   "id": "633012ce",
   "metadata": {},
   "source": [
    "## Conclusion\n",
    "Dictionaries are powerful tools in Python for managing key-value pairs. They are used in a variety of real-world scenarios, such as counting word frequency, grouping data, storing configuration settings, managing phonebooks, tracking inventory, and caching results. Understanding how to leverage dictionaries effectively can greatly enhance the efficiency and readability of your code.\n",
    "\n"
   ]
  }
 ],
 "metadata": {
  "kernelspec": {
   "display_name": "Python 3",
   "language": "python",
   "name": "python3"
  },
  "language_info": {
   "codemirror_mode": {
    "name": "ipython",
    "version": 3
   },
   "file_extension": ".py",
   "mimetype": "text/x-python",
   "name": "python",
   "nbconvert_exporter": "python",
   "pygments_lexer": "ipython3",
   "version": "3.13.4"
  }
 },
 "nbformat": 4,
 "nbformat_minor": 5
}
