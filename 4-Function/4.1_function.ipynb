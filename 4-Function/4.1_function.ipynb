{
 "cells": [
  {
   "cell_type": "markdown",
   "id": "0a74b488",
   "metadata": {},
   "source": [
    "### Function in python \n"
   ]
  },
  {
   "cell_type": "markdown",
   "id": "ea14762e",
   "metadata": {},
   "source": [
    "Outline\n",
    "\n",
    "1. Introduction to function \n",
    "2. Defing function \n",
    "3. Calling Function \n",
    "4. Function Parameter \n",
    "5. Default Paramaters \n",
    "6. Varible-LENGTH arguments\n",
    "7. Return Statement\n",
    "\n",
    "\n"
   ]
  },
  {
   "cell_type": "markdown",
   "id": "be6f8b65",
   "metadata": {},
   "source": [
    "# Introduction to Function \n"
   ]
  },
  {
   "cell_type": "markdown",
   "id": "829ee6c9",
   "metadata": {},
   "source": [
    "Defintion \n",
    " \n",
    " A function is block of code that performs a specific task. Function help in orgazing code, resuing code, and improving readablity.\n"
   ]
  },
  {
   "cell_type": "code",
   "execution_count": 4,
   "id": "3f16bf11",
   "metadata": {},
   "outputs": [],
   "source": [
    "## syntax \n",
    "def function_name(parameters):\n",
    "    #function body\n",
    "    return expression\n",
    "\n",
    "\n",
    "      "
   ]
  },
  {
   "cell_type": "code",
   "execution_count": 5,
   "id": "a91390f3",
   "metadata": {},
   "outputs": [
    {
     "name": "stdout",
     "output_type": "stream",
     "text": [
      "the number is even\n"
     ]
    }
   ],
   "source": [
    "#why function?\n",
    "num =24\n",
    "if num % 2 ==0:\n",
    "    print(\"the number is even\")\n",
    "else:\n",
    "    print(\"The number is odd\")"
   ]
  },
  {
   "cell_type": "code",
   "execution_count": 7,
   "id": "c4ce7e79",
   "metadata": {},
   "outputs": [
    {
     "name": "stdout",
     "output_type": "stream",
     "text": [
      "The number is  even\n"
     ]
    }
   ],
   "source": [
    "def even_or_odd(num):\n",
    "    \"\"\"Thid function finds even or odd\"\"\"\n",
    "    if num %2 ==0:\n",
    "        print(\"The number is  even\")\n",
    "    else:\n",
    "        print(\"The number is odd\")\n",
    "even_or_odd(34)"
   ]
  },
  {
   "cell_type": "code",
   "execution_count": 8,
   "id": "738cae76",
   "metadata": {},
   "outputs": [
    {
     "name": "stdout",
     "output_type": "stream",
     "text": [
      "6\n"
     ]
    }
   ],
   "source": [
    "#function with multiple parameter \n",
    "def add(a, b):\n",
    "    return a +b \n",
    "result =add(2,4)\n",
    "print(result)"
   ]
  },
  {
   "cell_type": "code",
   "execution_count": 16,
   "id": "e3f0b311",
   "metadata": {},
   "outputs": [
    {
     "name": "stdout",
     "output_type": "stream",
     "text": [
      "Hello KESHAV welcome to the paradise\n"
     ]
    }
   ],
   "source": [
    "# default parameter \n",
    "def greet(name):\n",
    "    print(f\"Hello {name} welcome to the paradise\")\n",
    "greet(\"KESHAV\")"
   ]
  },
  {
   "cell_type": "code",
   "execution_count": 21,
   "id": "8a411637",
   "metadata": {},
   "outputs": [
    {
     "name": "stdout",
     "output_type": "stream",
     "text": [
      "1\n",
      "2\n",
      "3\n",
      "4\n",
      "5\n",
      "6\n",
      "7\n",
      "krish\n"
     ]
    }
   ],
   "source": [
    "#variable length argument \n",
    "#positional and keyword argument \n",
    "\n",
    "def print_number(*krish):\n",
    "    for number in krish:\n",
    "        print(number)\n",
    "print_number(1,2,3,4,5,6,7,\"krish\")\n",
    "      "
   ]
  },
  {
   "cell_type": "code",
   "execution_count": 29,
   "id": "1bcabfc7",
   "metadata": {},
   "outputs": [
    {
     "name": "stdout",
     "output_type": "stream",
     "text": [
      "1\n",
      "2\n",
      "3\n",
      "4\n",
      "5\n",
      "6\n",
      "7\n",
      "kESHAV\n"
     ]
    }
   ],
   "source": [
    "#positional argument \n",
    "def print_number(*args):\n",
    "    for number in args:\n",
    "        print(number)\n",
    "print_number(1,2,3,4,5,6,7,\"kESHAV\")\n",
    "\n",
    "        "
   ]
  },
  {
   "cell_type": "code",
   "execution_count": 24,
   "id": "fd6c2278",
   "metadata": {},
   "outputs": [
    {
     "name": "stdout",
     "output_type": "stream",
     "text": [
      "name:krish\n",
      "age:32\n",
      "country:India\n"
     ]
    }
   ],
   "source": [
    "def print_details(**kwargs):\n",
    "    for key, value in kwargs.items():\n",
    "        print(f\"{key}:{value}\")\n",
    "        \n",
    "print_details(name =\"krish\", age=\"32\", country =\"India\")"
   ]
  },
  {
   "cell_type": "code",
   "execution_count": 26,
   "id": "693da46e",
   "metadata": {},
   "outputs": [
    {
     "name": "stdout",
     "output_type": "stream",
     "text": [
      "Positional arument :1\n",
      "Positional arument :2\n",
      "Positional arument :3\n",
      "Positional arument :4\n",
      "Positional arument :keshav\n",
      "name:keshav\n",
      "age:32\n",
      "country:India\n"
     ]
    }
   ],
   "source": [
    "def print_details(*args, **kwargs):\n",
    "    for val in args:\n",
    "        print(f\"Positional arument :{val}\")\n",
    "        \n",
    "    for key, value in kwargs.items():\n",
    "        print(f\"{key}:{value}\")\n",
    "print_details(1,2,3,4, 'keshav', name =\"keshav\", age=\"32\", country='India')"
   ]
  },
  {
   "cell_type": "code",
   "execution_count": 27,
   "id": "76be55b9",
   "metadata": {},
   "outputs": [
    {
     "data": {
      "text/plain": [
       "12"
      ]
     },
     "execution_count": 27,
     "metadata": {},
     "output_type": "execute_result"
    }
   ],
   "source": [
    "#return statement\n",
    "def multiply(a,b):\n",
    "    return a*b\n",
    "\n",
    "multiply(3,4)\n"
   ]
  },
  {
   "cell_type": "code",
   "execution_count": 28,
   "id": "7d5ac587",
   "metadata": {},
   "outputs": [
    {
     "data": {
      "text/plain": [
       "(12, 3)"
      ]
     },
     "execution_count": 28,
     "metadata": {},
     "output_type": "execute_result"
    }
   ],
   "source": [
    "#return multiple parameter \n",
    "def multiply(a,b):\n",
    "    return a*b ,a\n",
    "multiply(3,4)"
   ]
  }
 ],
 "metadata": {
  "kernelspec": {
   "display_name": "Python 3",
   "language": "python",
   "name": "python3"
  },
  "language_info": {
   "codemirror_mode": {
    "name": "ipython",
    "version": 3
   },
   "file_extension": ".py",
   "mimetype": "text/x-python",
   "name": "python",
   "nbconvert_exporter": "python",
   "pygments_lexer": "ipython3",
   "version": "3.13.4"
  }
 },
 "nbformat": 4,
 "nbformat_minor": 5
}
