{
 "cells": [
  {
   "cell_type": "markdown",
   "id": "e17b9f47",
   "metadata": {},
   "source": [
    "#File #Operation -Read And Write Files \n",
    "\n"
   ]
  },
  {
   "cell_type": "markdown",
   "id": "bf9ea905",
   "metadata": {},
   "source": [
    "File Handling is a crucial part of any programing language. Python provide built -in function and methods to read from and write to files, both text and binary . This lesson will cover the basics of the file handling, including reading and writing text files and binary files.\n"
   ]
  },
  {
   "cell_type": "code",
   "execution_count": 2,
   "id": "f6c317c5",
   "metadata": {},
   "outputs": [
    {
     "name": "stdout",
     "output_type": "stream",
     "text": [
      "Hello every In this lecture we know about file hanling how to read file \n"
     ]
    }
   ],
   "source": [
    "#read whole file \n",
    "with open('example.txt','r') as file:\n",
    "     content =file.read()\n",
    "     print(content)\n"
   ]
  },
  {
   "cell_type": "code",
   "execution_count": 9,
   "id": "5e2137cd",
   "metadata": {},
   "outputs": [
    {
     "name": "stdout",
     "output_type": "stream",
     "text": [
      "Hello every In this lecture we know about file hanling how to read file \n",
      "\n",
      "\n",
      "\n",
      "and so on \n"
     ]
    }
   ],
   "source": [
    "#read a file line by line\n",
    "with open('example.txt','r') as file:\n",
    "    for line in file:\n",
    "        print(line)\n",
    "    "
   ]
  },
  {
   "cell_type": "code",
   "execution_count": 17,
   "id": "c8427c55",
   "metadata": {},
   "outputs": [],
   "source": [
    "#writing a file (overwriting)\n",
    "with open('example.txt','w') as file:\n",
    "    file.write('hello world\\n')\n",
    "    file.write('This is powerfull concept\\n')\n"
   ]
  },
  {
   "cell_type": "code",
   "execution_count": 19,
   "id": "6f00b1c8",
   "metadata": {},
   "outputs": [],
   "source": [
    "# write a file without overwriting \n",
    "with open ('example.txt','a') as file:\n",
    "    file.write('Append operatioin taking place!')"
   ]
  },
  {
   "cell_type": "code",
   "execution_count": 22,
   "id": "edd65e4c",
   "metadata": {},
   "outputs": [],
   "source": [
    "#writing list of line to a file \n",
    "lines=[\"first line \\n\", \"second line \\n\",\"Third line\\n\"]\n",
    "with open ('example.txt', 'a')as file:\n",
    "    file.writelines(lines)"
   ]
  },
  {
   "cell_type": "code",
   "execution_count": null,
   "id": "f4be4b9f",
   "metadata": {},
   "outputs": [],
   "source": [
    "# above example of txt file now come to binary file \n",
    "data =b'\\x00\\x01\\x03\\x04'\n",
    "with open('example.bin','wb') as file:   #write byte\n",
    "    file.write(data)"
   ]
  },
  {
   "cell_type": "code",
   "execution_count": 5,
   "id": "b46416a3",
   "metadata": {},
   "outputs": [
    {
     "name": "stdout",
     "output_type": "stream",
     "text": [
      "b'\\x00\\x01\\x03\\x04'\n"
     ]
    }
   ],
   "source": [
    "#reading a binary file \n",
    "with open('example.bin','rb') as file: \n",
    "    content=file.read()\n",
    "    print(content)\n"
   ]
  },
  {
   "cell_type": "code",
   "execution_count": 27,
   "id": "aad9bef3",
   "metadata": {},
   "outputs": [],
   "source": [
    "#read the content from source text file and write to destination text file \n",
    "with open('example.txt' ,'r') as source_file:\n",
    "    content=source_file.read()\n",
    "    \n",
    "with open ('destionation.txt', 'w') as destination_file:\n",
    "    destination_file.write(content)"
   ]
  },
  {
   "cell_type": "code",
   "execution_count": 1,
   "id": "72da03d0",
   "metadata": {},
   "outputs": [
    {
     "name": "stdout",
     "output_type": "stream",
     "text": [
      "lines:12, words:10, characters:12\n"
     ]
    }
   ],
   "source": [
    "#Read a txt file and count the number of line, words , and characters\n",
    "# counting lines, words and character in a text file\n",
    "def count_txt_file(file_path):\n",
    "    with open(file_path, 'r')as file:\n",
    "        lines =file.readline()\n",
    "        line_count =len(lines)\n",
    "        word_count =sum(len(line.split())for line in lines)\n",
    "        char_count =sum(len(line) for line in lines)\n",
    "    return line_count, word_count, char_count\n",
    "\n",
    "file_path ='example.txt'\n",
    "lines,words, characters = count_txt_file(file_path)\n",
    "print(f\"lines:{lines}, words:{words}, characters:{characters}\")"
   ]
  },
  {
   "cell_type": "code",
   "execution_count": 6,
   "id": "3fb4353d",
   "metadata": {},
   "outputs": [
    {
     "name": "stdout",
     "output_type": "stream",
     "text": [
      "b'\\x00\\x01\\x03\\x04'\n"
     ]
    }
   ],
   "source": [
    "##writing and then reading a file \n",
    "with open ('example.txt','w+') as file:\n",
    "    file.write (\"hello world\\n\")\n",
    "    file.write(\"This is new line \\n\")\n",
    "    \n",
    "    \n",
    "    # move the file cursor to the begining \n",
    "    file.seek(0)\n",
    "    \n",
    "    #read the content of the file\n",
    "    print(content)"
   ]
  }
 ],
 "metadata": {
  "kernelspec": {
   "display_name": "Python 3",
   "language": "python",
   "name": "python3"
  },
  "language_info": {
   "codemirror_mode": {
    "name": "ipython",
    "version": 3
   },
   "file_extension": ".py",
   "mimetype": "text/x-python",
   "name": "python",
   "nbconvert_exporter": "python",
   "pygments_lexer": "ipython3",
   "version": "3.13.4"
  }
 },
 "nbformat": 4,
 "nbformat_minor": 5
}
