{
 "cells": [
  {
   "cell_type": "code",
   "execution_count": 3,
   "id": "932befa1",
   "metadata": {},
   "outputs": [
    {
     "name": "stdout",
     "output_type": "stream",
     "text": [
      "current working directory is /home/pc-1/Desktop/python/FileHandling\n"
     ]
    }
   ],
   "source": [
    "import os\n",
    "cwd =os.getcwd()\n",
    "print(f\"current working directory is {cwd}\")"
   ]
  },
  {
   "cell_type": "code",
   "execution_count": 4,
   "id": "07a975a9",
   "metadata": {},
   "outputs": [
    {
     "name": "stdout",
     "output_type": "stream",
     "text": [
      "Directory package create \n"
     ]
    }
   ],
   "source": [
    "#create a new directory\n",
    "new_diectory =\"package\"\n",
    "os.mkdir(new_diectory)\n",
    "print(f\"Directory {new_diectory} create \")"
   ]
  },
  {
   "cell_type": "code",
   "execution_count": 6,
   "id": "202c1fed",
   "metadata": {},
   "outputs": [
    {
     "name": "stdout",
     "output_type": "stream",
     "text": [
      "['filepath.ipynb', 'example.txt', 'fileoperation.ipynb', 'example.bin', 'destionation.txt', 'package']\n"
     ]
    }
   ],
   "source": [
    "#Listing file And Directories\n",
    "items =os.listdir('.')\n",
    "print(items)"
   ]
  },
  {
   "cell_type": "code",
   "execution_count": 10,
   "id": "b41bc15e",
   "metadata": {},
   "outputs": [
    {
     "name": "stdout",
     "output_type": "stream",
     "text": [
      "folder/file.txt\n",
      "/home/pc-1/Desktop/python/FileHandling/folder/file.txt\n"
     ]
    }
   ],
   "source": [
    "#joining path\n",
    "dir_name =\"folder\"\n",
    "file_name=\"file.txt\"\n",
    "full_path=os.path.join(dir_name,file_name)\n",
    "print(full_path)\n",
    "# if u want to add with current directly \n",
    "full_path=os.path.join(os.getcwd(),dir_name,file_name)\n",
    "print(full_path)\n"
   ]
  },
  {
   "cell_type": "code",
   "execution_count": 11,
   "id": "a5a9bdca",
   "metadata": {},
   "outputs": [
    {
     "name": "stdout",
     "output_type": "stream",
     "text": [
      "The path 'example.txt' exits \n"
     ]
    }
   ],
   "source": [
    "path ='example.txt'\n",
    "if os.path.exists(path):\n",
    "    print(f\"The path '{path}' exits \")\n",
    "else:\n",
    "    print(f\"The path '{path}' does not exist \")"
   ]
  },
  {
   "cell_type": "code",
   "execution_count": 12,
   "id": "bed351cf",
   "metadata": {},
   "outputs": [
    {
     "name": "stdout",
     "output_type": "stream",
     "text": [
      "The path 'example.txt' is a directory\n"
     ]
    }
   ],
   "source": [
    "#checking if a path is a file or directory \n",
    "import os\n",
    "path ='example.txt'\n",
    "if os.path.isfile(path):\n",
    "    print(f\"The path '{path}' is a directory\")\n",
    "elif os.path.isdir(path):\n",
    "    print(f\"The path {path} si a directory \")"
   ]
  },
  {
   "cell_type": "code",
   "execution_count": null,
   "id": "886605fe",
   "metadata": {},
   "outputs": [],
   "source": []
  }
 ],
 "metadata": {
  "kernelspec": {
   "display_name": "Python 3",
   "language": "python",
   "name": "python3"
  },
  "language_info": {
   "codemirror_mode": {
    "name": "ipython",
    "version": 3
   },
   "file_extension": ".py",
   "mimetype": "text/x-python",
   "name": "python",
   "nbconvert_exporter": "python",
   "pygments_lexer": "ipython3",
   "version": "3.13.4"
  }
 },
 "nbformat": 4,
 "nbformat_minor": 5
}
