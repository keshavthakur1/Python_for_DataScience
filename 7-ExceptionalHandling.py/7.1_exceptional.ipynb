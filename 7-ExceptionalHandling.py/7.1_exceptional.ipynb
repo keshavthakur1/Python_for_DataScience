{
 "cells": [
  {
   "cell_type": "markdown",
   "id": "39b57d5c",
   "metadata": {},
   "source": [
    "# Understanding Exceptionals\n",
    "Exception handling in python allows you to handle error gracefully and take corrective actions without stopping the execution of the program .This lesson will cover the basic of exceptions, including how to use try, except, else , AND FANALLY blocks.\n",
    "\n"
   ]
  },
  {
   "cell_type": "markdown",
   "id": "b477b942",
   "metadata": {},
   "source": [
    "\n",
    "# What Are Exceptions?\n",
    "Exceptions are events that disrupt the normal flow of a program. They occur when an error is encountered during program execution. Common exceptions include:\n",
    "\n",
    "ZeroDivisionError: Dividing by zero.\n",
    "\n",
    "FileNotFoundError: File not found.\n",
    "\n",
    "ValueError: Invalid value.\n",
    "\n",
    "TypeError: Invalid type."
   ]
  },
  {
   "cell_type": "code",
   "execution_count": 5,
   "id": "e8c2ea19",
   "metadata": {},
   "outputs": [
    {
     "name": "stdout",
     "output_type": "stream",
     "text": [
      "This variable is not assign  \n"
     ]
    }
   ],
   "source": [
    "# a =b  # if some is code code they can understand name error \n",
    "\n",
    "try:\n",
    "    a=b\n",
    "except:\n",
    "    print(\"This variable is not assign  \") # this is ways to handle the error "
   ]
  },
  {
   "cell_type": "code",
   "execution_count": 7,
   "id": "9a2afb79",
   "metadata": {},
   "outputs": [
    {
     "name": "stdout",
     "output_type": "stream",
     "text": [
      "name 'b' is not defined\n"
     ]
    }
   ],
   "source": [
    "try:\n",
    "    a=b\n",
    "except NameError as ex:\n",
    "    print(ex)"
   ]
  },
  {
   "cell_type": "code",
   "execution_count": null,
   "id": "f0900f37",
   "metadata": {},
   "outputs": [
    {
     "ename": "ZeroDivisionError",
     "evalue": "division by zero",
     "output_type": "error",
     "traceback": [
      "\u001b[31m---------------------------------------------------------------------------\u001b[39m",
      "\u001b[31mZeroDivisionError\u001b[39m                         Traceback (most recent call last)",
      "\u001b[36mCell\u001b[39m\u001b[36m \u001b[39m\u001b[32mIn[8]\u001b[39m\u001b[32m, line 1\u001b[39m\n\u001b[32m----> \u001b[39m\u001b[32m1\u001b[39m result = \u001b[32;43m1\u001b[39;49m\u001b[43m/\u001b[49m\u001b[32;43m0\u001b[39;49m\n",
      "\u001b[31mZeroDivisionError\u001b[39m: division by zero"
     ]
    }
   ],
   "source": [
    "result = 1/0\n",
    "#ZeroDivisionError is also a exception error \n"
   ]
  },
  {
   "cell_type": "code",
   "execution_count": 10,
   "id": "5fb02352",
   "metadata": {},
   "outputs": [
    {
     "name": "stdout",
     "output_type": "stream",
     "text": [
      "division by zero\n",
      "please enter the denominator greater than 0\n"
     ]
    }
   ],
   "source": [
    "#so how we handle its \n",
    "try:\n",
    "    result= 1/0\n",
    "except ZeroDivisionError as ex:\n",
    "    print(ex)# apart from i am also going to print another message \n",
    "    print(\"please enter the denominator greater than 0\")\n"
   ]
  },
  {
   "cell_type": "code",
   "execution_count": 14,
   "id": "505a7397",
   "metadata": {},
   "outputs": [
    {
     "name": "stdout",
     "output_type": "stream",
     "text": [
      "name 'b' is not defined\n",
      "Main exception got catch here\n"
     ]
    }
   ],
   "source": [
    "try:\n",
    "    result= 1/2\n",
    "    a=b\n",
    "except ZeroDivisionError as ex:\n",
    "    print(ex)# apart from i am also going to print another message \n",
    "    print(\"please enter the denominator greater than 0\")\n",
    "    \n",
    "except Exception as ex1:  # all the exception will drive from one single drive single class \n",
    "    print(ex1)\n",
    "    print(\"Main exception got catch here\")\n",
    "    "
   ]
  },
  {
   "cell_type": "code",
   "execution_count": 25,
   "id": "838df6d0",
   "metadata": {},
   "outputs": [
    {
     "name": "stdout",
     "output_type": "stream",
     "text": [
      "enter denominator greater than zero\n"
     ]
    }
   ],
   "source": [
    "try:\n",
    "    num =int(input(\"Enter a number\"))\n",
    "    result =10/num  # error will catch here \n",
    "except ValueError:\n",
    "    print(\"This is not a valid number\")\n",
    "except ZeroDivisionError:\n",
    "    print(\"enter denominator greater than zero\")   # when u enter any string u got value error \n",
    "    # when u enter 0 u enter denominator grater than zero\n",
    "except Exception as ex:\n",
    "    print(ex)\n",
    "    "
   ]
  },
  {
   "cell_type": "code",
   "execution_count": null,
   "id": "a1378c1a",
   "metadata": {},
   "outputs": [
    {
     "name": "stdout",
     "output_type": "stream",
     "text": [
      "resultis 0.43478260869565216\n"
     ]
    }
   ],
   "source": [
    "#try , else except , else block \n",
    "try:\n",
    "    num =int(input(\"Enter a number\"))\n",
    "    result =10/num  # error will catch here \n",
    "except ValueError:\n",
    "    print(\"This is not a valid number\")\n",
    "except ZeroDivisionError:\n",
    "    print(\"enter denominator greater than zero\")   # when u enter any string u got value error \n",
    "    # when u enter 0 u enter denominator grater than zero\n",
    "except Exception as ex:\n",
    "    print(ex)\n",
    "else:   # this else block nothing when no exceptiional is runing then this will run and give result  \n",
    "    print(f\"resultis {result}\")\n",
    "\n",
    "#when ever error happen then only exceptional block will run but not that then else will run \n"
   ]
  },
  {
   "cell_type": "code",
   "execution_count": null,
   "id": "ee2be7c9",
   "metadata": {},
   "outputs": [
    {
     "name": "stdout",
     "output_type": "stream",
     "text": [
      "enter denominator greater than zero\n",
      "Excution complete \n"
     ]
    }
   ],
   "source": [
    "##try , except , else and finally \n",
    "try:\n",
    "    num =int(input(\"Enter a number\"))\n",
    "    result =10/num  # error will catch here \n",
    "except ValueError:\n",
    "    print(\"This is not a valid number\")\n",
    "except ZeroDivisionError:\n",
    "    print(\"enter denominator greater than zero\") \n",
    "else:\n",
    "    print(f\"The result is {result}\")\n",
    "finally:\n",
    "    print(\"Excution complete \")   #before finally we already discus in perivous code how its working \n",
    "    # we are used in  real world senerio this used let i am try to connect database and did optiuon with with the help of try and except  and but i come from block at the end i should used finally \n",
    "    \n",
    "    \n",
    "    \n"
   ]
  }
 ],
 "metadata": {
  "kernelspec": {
   "display_name": "Python 3",
   "language": "python",
   "name": "python3"
  },
  "language_info": {
   "codemirror_mode": {
    "name": "ipython",
    "version": 3
   },
   "file_extension": ".py",
   "mimetype": "text/x-python",
   "name": "python",
   "nbconvert_exporter": "python",
   "pygments_lexer": "ipython3",
   "version": "3.13.4"
  }
 },
 "nbformat": 4,
 "nbformat_minor": 5
}
