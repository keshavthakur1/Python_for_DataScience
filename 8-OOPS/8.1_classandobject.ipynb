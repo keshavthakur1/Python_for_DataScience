{
 "cells": [
  {
   "cell_type": "markdown",
   "id": "cc7b16b1",
   "metadata": {},
   "source": [
    "CLASS And OBJECT\n"
   ]
  },
  {
   "cell_type": "markdown",
   "id": "52defdae",
   "metadata": {},
   "source": [
    "Object-oriented Programing(oop) is a programming paradigm that used \"object\" to design applicatiions and computer programs.OOP allows for modeling real-world scenarios using class and object . This lesson covers the basics of creating classes and objects, including instance variable and methods."
   ]
  },
  {
   "cell_type": "code",
   "execution_count": null,
   "id": "d980b30a",
   "metadata": {},
   "outputs": [
    {
     "name": "stdout",
     "output_type": "stream",
     "text": [
      "<class '__main__.Car'>\n"
     ]
    }
   ],
   "source": [
    "#class is a blue print for creating objects. It will have saperate methods and attributes\n",
    "\n",
    "class Car:\n",
    "    pass  # i am creating empty car class \n",
    "\n",
    "audi =Car()\n",
    "bmw = Car()\n",
    "\n",
    "print(type(audi)) # output is nothing its also a class"
   ]
  },
  {
   "cell_type": "code",
   "execution_count": null,
   "id": "bf2a4645",
   "metadata": {},
   "outputs": [
    {
     "name": "stdout",
     "output_type": "stream",
     "text": [
      "<__main__.Car object at 0x737d1dc052b0>\n",
      "<__main__.Car object at 0x737d1de22c10>\n"
     ]
    }
   ],
   "source": [
    "print(audi)\n",
    "print(bmw)\n",
    "#output show this is a car object at this specific memory location "
   ]
  },
  {
   "cell_type": "code",
   "execution_count": null,
   "id": "8f41de26",
   "metadata": {},
   "outputs": [
    {
     "name": "stdout",
     "output_type": "stream",
     "text": [
      "4\n"
     ]
    }
   ],
   "source": [
    "audi.window =4\n",
    "print(audi.window)\n"
   ]
  },
  {
   "cell_type": "code",
   "execution_count": null,
   "id": "5db5c8b8",
   "metadata": {},
   "outputs": [
    {
     "name": "stdout",
     "output_type": "stream",
     "text": [
      "4\n"
     ]
    },
    {
     "ename": "AttributeError",
     "evalue": "'Car' object has no attribute 'window'",
     "output_type": "error",
     "traceback": [
      "\u001b[31m---------------------------------------------------------------------------\u001b[39m",
      "\u001b[31mAttributeError\u001b[39m                            Traceback (most recent call last)",
      "\u001b[36mCell\u001b[39m\u001b[36m \u001b[39m\u001b[32mIn[6]\u001b[39m\u001b[32m, line 4\u001b[39m\n\u001b[32m      2\u001b[39m tata.doors=\u001b[32m4\u001b[39m\n\u001b[32m      3\u001b[39m \u001b[38;5;28mprint\u001b[39m(tata.doors)\n\u001b[32m----> \u001b[39m\u001b[32m4\u001b[39m \u001b[38;5;28mprint\u001b[39m(\u001b[43mtata\u001b[49m\u001b[43m.\u001b[49m\u001b[43mwindow\u001b[49m)\n",
      "\u001b[31mAttributeError\u001b[39m: 'Car' object has no attribute 'window'"
     ]
    }
   ],
   "source": [
    "tata =Car()\n",
    "tata.doors=4\n",
    "print(tata.doors)\n",
    "print(tata.window)   #so this is not a good pratice to creating object "
   ]
  },
  {
   "cell_type": "code",
   "execution_count": null,
   "id": "1e90aa26",
   "metadata": {},
   "outputs": [
    {
     "data": {
      "text/plain": [
       "['__class__',\n",
       " '__delattr__',\n",
       " '__dict__',\n",
       " '__dir__',\n",
       " '__doc__',\n",
       " '__eq__',\n",
       " '__firstlineno__',\n",
       " '__format__',\n",
       " '__ge__',\n",
       " '__getattribute__',\n",
       " '__getstate__',\n",
       " '__gt__',\n",
       " '__hash__',\n",
       " '__init__',\n",
       " '__init_subclass__',\n",
       " '__le__',\n",
       " '__lt__',\n",
       " '__module__',\n",
       " '__ne__',\n",
       " '__new__',\n",
       " '__reduce__',\n",
       " '__reduce_ex__',\n",
       " '__repr__',\n",
       " '__setattr__',\n",
       " '__sizeof__',\n",
       " '__static_attributes__',\n",
       " '__str__',\n",
       " '__subclasshook__',\n",
       " '__weakref__',\n",
       " 'doors']"
      ]
     },
     "execution_count": 7,
     "metadata": {},
     "output_type": "execute_result"
    }
   ],
   "source": [
    "dir(tata)  # here u got inbuild function and  each pf method are doing specific task"
   ]
  },
  {
   "cell_type": "code",
   "execution_count": null,
   "id": "81e1adaf",
   "metadata": {},
   "outputs": [
    {
     "name": "stdout",
     "output_type": "stream",
     "text": [
      "<__main__.Dog object at 0x737d1dc07e00>\n",
      "Buddy\n",
      "3\n",
      "tommy\n"
     ]
    }
   ],
   "source": [
    "#Instance Variable(its is some kind of property) and Method \n",
    "class Dog:\n",
    "    def __init__(self, name, age):\n",
    "        self.name=name \n",
    "        self.age=age\n",
    "        \n",
    "        \n",
    "#create objects\n",
    "dog1 =Dog(\"Buddy\",3)\n",
    "print(dog1)\n",
    "print(dog1.name)\n",
    "print(dog1.age)\n",
    "\n",
    "dog2 =Dog(\"tommy\", 11)  # here we creatig multiple object but we can acess easly  but in above tata case we are not able to acess easily \n",
    "print(dog2.name)"
   ]
  },
  {
   "cell_type": "code",
   "execution_count": 16,
   "id": "148bca61",
   "metadata": {},
   "outputs": [
    {
     "name": "stdout",
     "output_type": "stream",
     "text": [
      "Buddy says woof\n",
      "Lucy says woof\n"
     ]
    }
   ],
   "source": [
    "#Define a class with instance methods \n",
    "class Dog:\n",
    "    def __init__(self, name , age ):\n",
    "        self.name = name\n",
    "        self.age=age\n",
    "    \n",
    "    \n",
    "    def bark(self):\n",
    "        print(f\"{self.name} says woof\")\n",
    "        \n",
    "dog1=Dog(\"Buddy\",3)\n",
    "dog1.bark()\n",
    "dog2=Dog(\"Lucy\",4)\n",
    "dog2.bark()\n"
   ]
  },
  {
   "cell_type": "code",
   "execution_count": 1,
   "id": "4999706e",
   "metadata": {},
   "outputs": [
    {
     "name": "stdout",
     "output_type": "stream",
     "text": [
      "5000\n"
     ]
    }
   ],
   "source": [
    "#mODELING A BANK aCCOUNT\n",
    "#DEFINE A CLASS FOR BANK ACCOUNT\n",
    "\n",
    "### Modeling a Bank Account\n",
    "\n",
    "class BankAccount:\n",
    "    def __init__(self,owner,balance=0):\n",
    "        self.owner=owner\n",
    "        self.balance=balance\n",
    "\n",
    "    def deposit(self,amount):\n",
    "        self.balance+=amount\n",
    "        print(f\"{amount} is deposited. New balance is {self.balance}\")\n",
    "\n",
    "    def withdraw(self,amount):\n",
    "        if amount>self.balance:\n",
    "            print(\"Insufficient funds!\")\n",
    "        else:\n",
    "            self.balance-=amount\n",
    "            print(f\"{amount} is withdrawn. New Balance is {self.balance}\")\n",
    "\n",
    "    def get_balance(self):\n",
    "        return self.balance\n",
    "    \n",
    "## create an account\n",
    "\n",
    "account=BankAccount(\"Krish\",5000)\n",
    "print(account.balance)\n"
   ]
  },
  {
   "cell_type": "code",
   "execution_count": 2,
   "id": "17febc40",
   "metadata": {},
   "outputs": [
    {
     "name": "stdout",
     "output_type": "stream",
     "text": [
      "100 is deposited. New balance is 5100\n"
     ]
    }
   ],
   "source": [
    "## Call isntance methods\n",
    "account.deposit(100)"
   ]
  },
  {
   "cell_type": "code",
   "execution_count": 3,
   "id": "c81b1d0f",
   "metadata": {},
   "outputs": [
    {
     "name": "stdout",
     "output_type": "stream",
     "text": [
      "300 is withdrawn. New Balance is 4800\n"
     ]
    }
   ],
   "source": [
    "account.withdraw(300)"
   ]
  },
  {
   "cell_type": "markdown",
   "id": "0f4a94c2",
   "metadata": {},
   "source": [
    "#  Conclusion\n",
    " \n",
    "Object-Oriented Programming (OOP) allows you to model real-world scenarios using classes and objects. In this lesson, you learned how to create classes and objects, define instance variables and methods, and use them to perform various operations. Understanding these concepts is fundamental to writing effective and maintainable Python code."
   ]
  }
 ],
 "metadata": {
  "kernelspec": {
   "display_name": "Python 3",
   "language": "python",
   "name": "python3"
  },
  "language_info": {
   "codemirror_mode": {
    "name": "ipython",
    "version": 3
   },
   "file_extension": ".py",
   "mimetype": "text/x-python",
   "name": "python",
   "nbconvert_exporter": "python",
   "pygments_lexer": "ipython3",
   "version": "3.13.4"
  }
 },
 "nbformat": 4,
 "nbformat_minor": 5
}
