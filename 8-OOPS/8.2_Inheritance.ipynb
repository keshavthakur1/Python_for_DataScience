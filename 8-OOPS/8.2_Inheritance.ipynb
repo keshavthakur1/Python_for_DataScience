{
 "cells": [
  {
   "cell_type": "markdown",
   "id": "50ac13a6",
   "metadata": {},
   "source": [
    "\n",
    "# Inheritance In Python\n",
    "Inheritance is a fundamental concept in Object-Oriented Programming (OOP) that allows a class to inherit attributes and methods from another class. This lesson covers single inheritance and multiple inheritance, demonstrating how to create and use them in Python."
   ]
  },
  {
   "cell_type": "code",
   "execution_count": 3,
   "id": "e97e602d",
   "metadata": {},
   "outputs": [
    {
     "name": "stdout",
     "output_type": "stream",
     "text": [
      "The person will drive the Petrol car\n",
      "The person will drive the Petrol car\n",
      "None\n"
     ]
    }
   ],
   "source": [
    "#inheritance \n",
    "#parent class\n",
    "\n",
    "class Car:\n",
    "    def __init__(self, windows, doors, engineType):\n",
    "        self.windows = windows\n",
    "        self.doors=doors\n",
    "        self.engineType =engineType\n",
    "        \n",
    "    def drive(self):\n",
    "        print(f\"The person will drive the {self.engineType} car\")\n",
    "\n",
    "\n",
    "car1 = Car(4, 5, \"Petrol\")\n",
    "# print(car1.drive) # this will print the reference of the data \n",
    "car1.drive()  \n",
    "print(car1.drive())"
   ]
  },
  {
   "cell_type": "code",
   "execution_count": null,
   "id": "ecb5bab9",
   "metadata": {},
   "outputs": [
    {
     "name": "stdout",
     "output_type": "stream",
     "text": [
      "Tesla support selfdriving:True\n"
     ]
    }
   ],
   "source": [
    "#child class \n",
    "class Tesla(Car):  #First i create a child class then i am inheriting parent class\n",
    "    def __init__(self, windows, doors, engineType, is_selfdriving):   #here we know we required atribute \n",
    "        \n",
    "        super().__init__(windows, doors, engineType) #using super keyword i am calling the atribute of parent class so need to  again define its \n",
    "        self.is_selfdriving = is_selfdriving \n",
    "        \n",
    "    # i am trying to another method which support selfdriving \n",
    "    def selfdriving(self):\n",
    "        print(f\"Tesla support selfdriving:{self.is_selfdriving}\")\n",
    "    \n",
    "tesla =Tesla(4,5,\"electriv\", True)\n",
    "# print(tesla.selfdriving())\n",
    "\n",
    "tesla.selfdriving()\n",
    "    "
   ]
  },
  {
   "cell_type": "code",
   "execution_count": 15,
   "id": "08867cd6",
   "metadata": {},
   "outputs": [
    {
     "name": "stdout",
     "output_type": "stream",
     "text": [
      "The person will drive the electriv car\n"
     ]
    }
   ],
   "source": [
    "tesla.drive()"
   ]
  },
  {
   "cell_type": "code",
   "execution_count": 4,
   "id": "95c59523",
   "metadata": {},
   "outputs": [
    {
     "name": "stdout",
     "output_type": "stream",
     "text": [
      "Buddy say woof\n",
      "owner:Bittu\n",
      "animal:keshav\n"
     ]
    }
   ],
   "source": [
    "#multiple class\n",
    "#base class 1\n",
    "class Animal:\n",
    "    def __init__(self, name):\n",
    "        self.name= name\n",
    "    \n",
    "    \n",
    "    def speak(self):\n",
    "        print(\"Subclass must important this method\")\n",
    "   \n",
    "#base class 2 \n",
    "class pet:\n",
    "    def __init__(self, owner):\n",
    "        self.owner = owner\n",
    "        \n",
    "#derived class\n",
    "class Dog(Animal, pet):\n",
    "    def __init__(self, name, owner):\n",
    "        # super().__init__(name, owner)\n",
    "        Animal.__init__(self, name)  # here we are not using bcz when i used super class we are only able to call one class not class b of constructor will not call so we ar\n",
    "        # so we using direct call to each class \n",
    "        pet.__init__(self, owner)\n",
    "    \n",
    "    \n",
    "    def speak(self):\n",
    "        return f\"{self.name} say woof\"\n",
    "    \n",
    "        \n",
    "dog =Dog(\"Buddy\", \"Bittu\")\n",
    "print(dog.speak())\n",
    "print(f\"owner:{dog.owner}\")\n",
    "\n",
    "dog1 =Animal(\"keshav\")\n",
    "print(f\"animal:{dog1.name}\")\n",
    "                                                                    "
   ]
  },
  {
   "cell_type": "markdown",
   "id": "b5d79f49",
   "metadata": {},
   "source": [
    "# Conclusion\n",
    "Inheritance is a powerful feature in OOP that allows for code reuse and the creation of a more logical class structure. Single inheritance involves one base class, while multiple inheritance involves more than one base class. Understanding how to implement and use inheritance in Python will enable you to design more efficient and maintainable object-oriented programs."
   ]
  }
 ],
 "metadata": {
  "kernelspec": {
   "display_name": "Python 3",
   "language": "python",
   "name": "python3"
  },
  "language_info": {
   "codemirror_mode": {
    "name": "ipython",
    "version": 3
   },
   "file_extension": ".py",
   "mimetype": "text/x-python",
   "name": "python",
   "nbconvert_exporter": "python",
   "pygments_lexer": "ipython3",
   "version": "3.13.4"
  }
 },
 "nbformat": 4,
 "nbformat_minor": 5
}
