{
 "cells": [
  {
   "cell_type": "markdown",
   "id": "0c0a1586",
   "metadata": {},
   "source": [
    "# Polymorphism\n",
    "Polymorphism is a core concept in Object-oriented Programming(oops) that allows objects of differnet classes to be treated as object of common superclass. it provide a way to perform a single action in different forms. POlymorphism is typically acheived  through method overriding and interfaces.\n"
   ]
  },
  {
   "cell_type": "markdown",
   "id": "88d493f4",
   "metadata": {},
   "source": [
    "# Method overloading \n",
    "The method overloading allow a child class to provide a specific implemnetation of a method that is already defined in present class.\n"
   ]
  },
  {
   "cell_type": "code",
   "execution_count": 1,
   "id": "adcc9012",
   "metadata": {},
   "outputs": [
    {
     "name": "stdout",
     "output_type": "stream",
     "text": [
      "woof\n",
      "mauw\n",
      "woof\n"
     ]
    }
   ],
   "source": [
    "#base class\n",
    "class Animal:\n",
    "    def speak(self):\n",
    "        return \"sound of the animal\"\n",
    "    \n",
    "#derived class\n",
    "class Dog(Animal):\n",
    "    def speak(self):\n",
    "        return \"woof\"\n",
    "    \n",
    "class Cat(Animal):\n",
    "    def speak(self):\n",
    "        return \"mauw\"\n",
    "    \n",
    "    \n",
    "def animal_speak(animal):\n",
    "    print(animal.speak())\n",
    "    \n",
    "dog = Dog()\n",
    "cat =Cat()\n",
    "print(dog.speak())\n",
    "\n",
    "print(cat.speak())\n",
    "animal_speak(dog)\n"
   ]
  },
  {
   "cell_type": "code",
   "execution_count": 5,
   "id": "df23e48a",
   "metadata": {},
   "outputs": [
    {
     "name": "stdout",
     "output_type": "stream",
     "text": [
      "the arc is20\n",
      "the arc is28.259999999999998\n"
     ]
    }
   ],
   "source": [
    "##polymorphism with function and Method \n",
    "#base class \n",
    "class Shape:\n",
    "    def area(self):\n",
    "        return \" The area of the figure\"\n",
    "    \n",
    "#drived class 1\n",
    "class Rectangle(Shape):\n",
    "    def __init__(self, width, height):\n",
    "        super().__init__()\n",
    "        self.width=width\n",
    "        self.height =height\n",
    "    \n",
    "    \n",
    "    def area(self):\n",
    "        return self.width *self.height\n",
    "#drived class 2 \n",
    "class Circle(Shape):\n",
    "    def __init__(self, radius):\n",
    "        self.radius=radius\n",
    "        \n",
    "    def area(self):\n",
    "        return 3.14*self.radius *self.radius\n",
    "    \n",
    "    \n",
    "#function that demostrate ploymorphism \n",
    "def print_area(shape):\n",
    "    print(f\"the arc is{shape.area()}\")\n",
    "    \n",
    "rectangle =Rectangle(4,5)\n",
    "circle=Circle(3)\n",
    "\n",
    "print_area(rectangle)\n",
    "print_area(circle)\n",
    "    "
   ]
  },
  {
   "cell_type": "markdown",
   "id": "be988309",
   "metadata": {},
   "source": [
    "# POLYMORPHISM WITH ABSTRACT BASE CLASSES\n",
    "abstrat base classes(ABCs) are used to define common method for a group of realted objects. They can enforces that drive classes implement particular methods, promoting consistency across different implementaiion \n",
    "\n"
   ]
  },
  {
   "cell_type": "code",
   "execution_count": 2,
   "id": "a5f70df6",
   "metadata": {},
   "outputs": [
    {
     "name": "stdout",
     "output_type": "stream",
     "text": [
      "car engine started\n"
     ]
    }
   ],
   "source": [
    "from abc import ABC, abstractmethod\n",
    " #define an abstract class\n",
    "class Vehicles(ABC):\n",
    "     @abstractmethod\n",
    "     def start_engine(self):\n",
    "         pass\n",
    "\n",
    "class Car(Vehicles):\n",
    "    def start_engine(self):\n",
    "        return \"car engine started\"\n",
    "    \n",
    "#drived class2\n",
    "class Motercycle(Vehicles):\n",
    "    def start_engine(self):\n",
    "        return \"Moter cycle engine started\"\n",
    "    \n",
    "def start_vehicle(vehicle):\n",
    "    print(vehicle.start_engine())\n",
    "#created a object of car and Motercycle  \n",
    "car = Car()\n",
    "motercycle =Motercycle()\n",
    "start_vehicle(car)\n",
    "     \n",
    "     "
   ]
  },
  {
   "cell_type": "markdown",
   "id": "736c755d",
   "metadata": {},
   "source": [
    "# Conclusion\n"
   ]
  },
  {
   "cell_type": "markdown",
   "id": "b738819f",
   "metadata": {},
   "source": [
    "POlymorphism is a powerful feature of oops that allow for flexibility and integration in a code design. It enable a single function to handle object of different classes, each with its own implementation of a method. By understanding and applying polymorphism, you can created more extensible and maintable object-oriented programs."
   ]
  }
 ],
 "metadata": {
  "kernelspec": {
   "display_name": "Python 3",
   "language": "python",
   "name": "python3"
  },
  "language_info": {
   "codemirror_mode": {
    "name": "ipython",
    "version": 3
   },
   "file_extension": ".py",
   "mimetype": "text/x-python",
   "name": "python",
   "nbconvert_exporter": "python",
   "pygments_lexer": "ipython3",
   "version": "3.13.4"
  }
 },
 "nbformat": 4,
 "nbformat_minor": 5
}
