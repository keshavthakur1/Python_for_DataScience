{
 "cells": [
  {
   "cell_type": "markdown",
   "id": "912f8a4e",
   "metadata": {},
   "source": [
    "Encapsulation and abstration are two fundamental principle of object-oriented programming (OOPS) that help in desiging robust, maintainable, and resuable code. Encapsulation involves building data and method that operate on data within a single unit, while abstration involve hiding complex implemention details and exposing only the necessary features "
   ]
  },
  {
   "cell_type": "markdown",
   "id": "de8792e5",
   "metadata": {},
   "source": [
    "# Encapsulation\n",
    "Encapsulation is the concept of wraping data(variable) and methods(function) together a single unit. It restrict direct acess to some of the object's components, which is mean of preventing accidential interference and misuese of data.\n"
   ]
  },
  {
   "cell_type": "code",
   "execution_count": 28,
   "id": "20ceb3c3",
   "metadata": {},
   "outputs": [
    {
     "name": "stdout",
     "output_type": "stream",
     "text": [
      "Keshav\n"
     ]
    },
    {
     "data": {
      "text/plain": [
       "'Keshav'"
      ]
     },
     "execution_count": 28,
     "metadata": {},
     "output_type": "execute_result"
    }
   ],
   "source": [
    "##Encapsulationwither getter and setter method \n",
    "#public, protected , private variable\n",
    "\n",
    "class Person:\n",
    "    def __init__(self, name, age, gender):\n",
    "        self.age = age  #public variable\n",
    "        self.name=name #public variable \n",
    "        self.gender =gender\n",
    "        \n",
    "def get_name(Person):\n",
    "    return Person.name        \n",
    "        \n",
    "person = Person(\"Keshav\", 22, \"Male\")\n",
    "print(person.name)\n",
    "get_name(person)"
   ]
  },
  {
   "cell_type": "code",
   "execution_count": null,
   "id": "7fe0adac",
   "metadata": {},
   "outputs": [
    {
     "data": {
      "text/plain": [
       "['__class__',\n",
       " '__delattr__',\n",
       " '__dict__',\n",
       " '__dir__',\n",
       " '__doc__',\n",
       " '__eq__',\n",
       " '__firstlineno__',\n",
       " '__format__',\n",
       " '__ge__',\n",
       " '__getattribute__',\n",
       " '__getstate__',\n",
       " '__gt__',\n",
       " '__hash__',\n",
       " '__init__',\n",
       " '__init_subclass__',\n",
       " '__le__',\n",
       " '__lt__',\n",
       " '__module__',\n",
       " '__ne__',\n",
       " '__new__',\n",
       " '__reduce__',\n",
       " '__reduce_ex__',\n",
       " '__repr__',\n",
       " '__setattr__',\n",
       " '__sizeof__',\n",
       " '__static_attributes__',\n",
       " '__str__',\n",
       " '__subclasshook__',\n",
       " '__weakref__',\n",
       " 'age',\n",
       " 'name']"
      ]
     },
     "execution_count": 3,
     "metadata": {},
     "output_type": "execute_result"
    }
   ],
   "source": [
    "dir(person)  # inside object there are lots inbuld function avaible \n",
    "#if you can go below there are age , name are also avaible too bcz they are public "
   ]
  },
  {
   "cell_type": "code",
   "execution_count": null,
   "id": "222e804c",
   "metadata": {},
   "outputs": [
    {
     "name": "stdout",
     "output_type": "stream",
     "text": [
      "Employee Name: Keshav, Age: 25, ID: EMP102\n",
      "Keshav\n"
     ]
    }
   ],
   "source": [
    "#one more variable protected variable \n",
    "class Person:\n",
    "    def __init__(self, name, age):\n",
    "        self._name = name     # protected variable\n",
    "        self._age = age       # protected variable\n",
    "\n",
    "    def display_info(self):\n",
    "        print(f\"Name: {self._name}, Age: {self._age}\")\n",
    "\n",
    "\n",
    "class Employee(Person):\n",
    "    def __init__(self, name, age, employee_id):\n",
    "        super().__init__(name, age)\n",
    "        self.employee_id = employee_id\n",
    "\n",
    "    def display_employee(self):\n",
    "        print(f\"Employee Name: {self._name}, Age: {self._age}, ID: {self.employee_id}\")\n",
    "\n",
    "\n",
    "# Creating an instance\n",
    "emp = Employee(\"Keshav\", 25, \"EMP102\")\n",
    "\n",
    "# Accessing protected members (allowed, but not recommended outside the class/subclass)\n",
    "emp.display_employee()  # Good practice\n",
    "print(emp._name)        #  Allowed, but discouraged by convention\n"
   ]
  },
  {
   "cell_type": "code",
   "execution_count": 2,
   "id": "d0c79132",
   "metadata": {},
   "outputs": [
    {
     "name": "stdout",
     "output_type": "stream",
     "text": [
      "krish\n",
      "nfjdfsjbj\n",
      "34\n",
      "35\n",
      "Age cannot be negative\n"
     ]
    }
   ],
   "source": [
    "#Encapsulation with getter and setter \n",
    "class Person:\n",
    "    def __init__(self, name, age):\n",
    "        self.__name =name # private acess modifier or variable\n",
    "        self.__age= age#private variable\n",
    "    \n",
    "    \n",
    "    #getter method for name \n",
    "    def get_name(self):\n",
    "        return self.__name   # which the help of getter we are retriving the data \n",
    "        \n",
    "    #setter method for name \n",
    "    def set_name(self, name):\n",
    "        self.__name=name    #which the help of setter we are changing the data \n",
    "        \n",
    "    #getter method for age \n",
    "    def get_age(self):\n",
    "        return self.__age\n",
    "    \n",
    "    #setter method for age \n",
    "    def set_age(self, age):\n",
    "        if age>0:\n",
    "           self.__age=age\n",
    "        else:\n",
    "            print(\"Age cannot be negative\")\n",
    "            \n",
    "person= Person(\"krish\", 34)\n",
    "\n",
    "#ACESS AND MODIFY PRIVATE VARIABLE using getter and setter \n",
    "print(person.get_name())\n",
    "person.set_name(\"nfjdfsjbj\")\n",
    "print(person.get_name())\n",
    "print(person.get_age())\n",
    "\n",
    "person.set_age(35)\n",
    "print(person.get_age())\n",
    "person.set_age(-5)\n",
    "\n",
    "\n",
    "\n"
   ]
  },
  {
   "cell_type": "markdown",
   "id": "9815fa53",
   "metadata": {},
   "source": [
    "# Key takeaways from encapsulation in Python:\n",
    "\n",
    " # Data Hiding:\n",
    "Encapsulation restricts direct access to an object's internal state (attributes), preventing unauthorized or accidental modifications. This is achieved through conventions like using double underscores (__) to denote \"private\" attributes, signaling that they should only be accessed or modified via public methods (getters and setters).\n",
    "\n",
    "# Controlled Access:\n",
    "Instead of direct access, encapsulation provides controlled access to data through well-defined public methods. This ensures data integrity by allowing validation and business logic to be applied before data is read or modified.\n",
    "\n",
    "# Modularity and Reusability:\n",
    "By encapsulating related data and behavior, classes become self-contained units. This improves code organization, making it easier to understand, maintain, and reuse components across different parts of a program or in other projects.\n",
    "\n",
    "# Reduced Complexity:\n",
    "Encapsulation hides implementation details, presenting a simpler interface to external code. This reduces the cognitive load on developers using the class, as they only need to understand the public methods, not the intricate internal workings.\n",
    "\n",
    "# Enhanced Maintainability:\n",
    "Changes to a class's internal implementation can be made without affecting external code as long as the public interface remains consistent. This significantly simplifies maintenance and updates."
   ]
  }
 ],
 "metadata": {
  "kernelspec": {
   "display_name": "Python 3",
   "language": "python",
   "name": "python3"
  },
  "language_info": {
   "codemirror_mode": {
    "name": "ipython",
    "version": 3
   },
   "file_extension": ".py",
   "mimetype": "text/x-python",
   "name": "python",
   "nbconvert_exporter": "python",
   "pygments_lexer": "ipython3",
   "version": "3.13.4"
  }
 },
 "nbformat": 4,
 "nbformat_minor": 5
}
