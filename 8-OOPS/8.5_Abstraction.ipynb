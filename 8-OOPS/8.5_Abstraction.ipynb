{
 "cells": [
  {
   "cell_type": "markdown",
   "id": "ff422942",
   "metadata": {},
   "source": [
    "# Abstraction \n",
    "Abstraction is the concept of hiding the complex implemention detail and showing only the necessary feature of an object. This help in reducing programming complexity and effort.\n",
    "\n"
   ]
  },
  {
   "cell_type": "code",
   "execution_count": 2,
   "id": "c72d05e3",
   "metadata": {},
   "outputs": [
    {
     "name": "stdout",
     "output_type": "stream",
     "text": [
      "car engine started\n",
      "The vehicle is used for driving\n"
     ]
    }
   ],
   "source": [
    "from abc import ABC, abstractmethod\n",
    "\n",
    "#abstract class\n",
    "class Vehicles(ABC):  # always rember the differece between a normal class and an abstract class is here i am inherating ABC \n",
    "    def drive(self):\n",
    "        print(\"The vehicle is used for driving\")\n",
    "        \n",
    "    @abstractmethod\n",
    "    def start_engine(Self):\n",
    "        pass   # EMTY CLASS \n",
    "    \n",
    "class Car(Vehicles):   \n",
    "    def start_engine(Self):\n",
    "        print(\"car engine started\")\n",
    "        \n",
    "def operate_vihicle(Vehicles):\n",
    "    Vehicles.start_engine()\n",
    "    Vehicles.drive()\n",
    "    \n",
    "car =Car()\n",
    "operate_vihicle(car)\n",
    "    "
   ]
  },
  {
   "cell_type": "code",
   "execution_count": 1,
   "id": "8b76be2a",
   "metadata": {},
   "outputs": [
    {
     "name": "stdout",
     "output_type": "stream",
     "text": [
      "Stripe Gateway initialized.\n",
      "\n",
      "--- Initiating Purchase ---\n",
      "Processing $99.99 via Stripe using API Key: sk_t****\n",
      "Purchase successful! Transaction ID: stripe_txn_123_99.99\n"
     ]
    }
   ],
   "source": [
    "from abc import ABC, abstractmethod\n",
    "\n",
    "# Abstract Base Class for a Payment Gateway\n",
    "class PaymentGateway(ABC):\n",
    "    @abstractmethod\n",
    "    def process_payment(self, amount):\n",
    "        pass\n",
    "\n",
    "    @abstractmethod\n",
    "    def refund_payment(self, transaction_id, amount):\n",
    "        pass\n",
    "\n",
    "# Encapsulated implementation of a specific payment gateway\n",
    "class StripeGateway(PaymentGateway):\n",
    "    def __init__(self, api_key, secret_key):\n",
    "        self.__api_key = api_key  # Encapsulated private attribute\n",
    "        self.__secret_key = secret_key # Encapsulated private attribute\n",
    "        print(\"Stripe Gateway initialized.\")\n",
    "\n",
    "    def process_payment(self, amount):\n",
    "        # Simulate complex payment processing logic\n",
    "        print(f\"Processing ${amount} via Stripe using API Key: {self.__api_key[:4]}****\")\n",
    "        # In a real scenario, this would involve API calls, error handling, etc.\n",
    "        return f\"stripe_txn_123_{amount}\"\n",
    "\n",
    "    def refund_payment(self, transaction_id, amount):\n",
    "        # Simulate complex refund processing logic\n",
    "        print(f\"Refunding ${amount} for transaction {transaction_id} via Stripe.\")\n",
    "        # In a real scenario, this would involve API calls, error handling, etc.\n",
    "        return True\n",
    "\n",
    "# Client code using the abstraction\n",
    "class OnlineStore:\n",
    "    def __init__(self, payment_gateway: PaymentGateway):\n",
    "        self.payment_gateway = payment_gateway\n",
    "\n",
    "    def complete_purchase(self, item_price):\n",
    "        print(\"\\n--- Initiating Purchase ---\")\n",
    "        transaction_id = self.payment_gateway.process_payment(item_price)\n",
    "        if transaction_id:\n",
    "            print(f\"Purchase successful! Transaction ID: {transaction_id}\")\n",
    "        else:\n",
    "            print(\"Purchase failed.\")\n",
    "\n",
    "# Usage\n",
    "stripe_gateway = StripeGateway(\"sk_test_abc123\", \"secret_xyz456\")\n",
    "store = OnlineStore(stripe_gateway)\n",
    "store.complete_purchase(99.99)\n",
    "\n",
    "# The client (OnlineStore) interacts with the abstract PaymentGateway interface.\n",
    "# It doesn't need to know the internal details of how StripeGateway processes payments\n",
    "# or how its `api_key` and `secret_key` are managed (encapsulation).\n",
    "# This is the essence of abstraction over encapsulation."
   ]
  },
  {
   "cell_type": "markdown",
   "id": "9c1986e1",
   "metadata": {},
   "source": [
    "Encapsulation:\n",
    "\n",
    "The StripeGateway class encapsulates its internal details, such as __api_key and __secret_key, making them private attributes (indicated by double underscores). This prevents direct external access and ensures that interactions with these sensitive details are controlled through the class's methods.\n",
    "\n",
    "Abstraction:\n",
    "\n",
    "The PaymentGateway is an abstract base class that defines a common interface (process_payment, refund_payment) for any payment gateway. The OnlineStore class interacts with this abstract interface, not with the concrete StripeGateway implementation directly. It knows what the payment gateway can do (process payments, refund payments) but not how it does it. The complex implementation details of StripeGateway (like API calls and specific handling of credentials) are hidden from the OnlineStore."
   ]
  }
 ],
 "metadata": {
  "kernelspec": {
   "display_name": "Python 3",
   "language": "python",
   "name": "python3"
  },
  "language_info": {
   "codemirror_mode": {
    "name": "ipython",
    "version": 3
   },
   "file_extension": ".py",
   "mimetype": "text/x-python",
   "name": "python",
   "nbconvert_exporter": "python",
   "pygments_lexer": "ipython3",
   "version": "3.13.4"
  }
 },
 "nbformat": 4,
 "nbformat_minor": 5
}
