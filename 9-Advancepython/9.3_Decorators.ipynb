{
 "cells": [
  {
   "cell_type": "markdown",
   "id": "ef86b384",
   "metadata": {},
   "source": [
    "# Decorators\n"
   ]
  },
  {
   "cell_type": "markdown",
   "id": "9e143632",
   "metadata": {},
   "source": [
    "Decorators are the powerful and flexible feature in python that allows you to modify the behavior of a function or class method. They are commonly used to add functionality to function or methods without modifying their catual code. This lesson covers the basics of Decorators, including how to create and use them."
   ]
  },
  {
   "cell_type": "code",
   "execution_count": null,
   "id": "682de388",
   "metadata": {},
   "outputs": [],
   "source": [
    "#before understand decorators first understand two concept \n",
    "#function copy \n",
    "#closures\n"
   ]
  },
  {
   "cell_type": "code",
   "execution_count": 3,
   "id": "25fe3eea",
   "metadata": {},
   "outputs": [
    {
     "data": {
      "text/plain": [
       "'welcome to the advance python course'"
      ]
     },
     "execution_count": 3,
     "metadata": {},
     "output_type": "execute_result"
    }
   ],
   "source": [
    "#function \n",
    "def welcome():\n",
    "    return \"welcome to the advance python course\"\n",
    "welcome()"
   ]
  },
  {
   "cell_type": "code",
   "execution_count": 4,
   "id": "db93f687",
   "metadata": {},
   "outputs": [
    {
     "data": {
      "text/plain": [
       "'welcome to the advance python course'"
      ]
     },
     "execution_count": 4,
     "metadata": {},
     "output_type": "execute_result"
    }
   ],
   "source": [
    "#what does function copy basically \n",
    "wel = welcome  # i am assigning welcome function in wel \n",
    "#now i am excuting wel \n",
    "# wel ##output <function __main__.welcome()>\n",
    "wel() #'welcome to the advance python course'\n",
    "# so function copy is basically is copy one function to other function \n",
    "\n"
   ]
  },
  {
   "cell_type": "code",
   "execution_count": 6,
   "id": "86a750af",
   "metadata": {},
   "outputs": [
    {
     "ename": "NameError",
     "evalue": "name 'welcome' is not defined",
     "output_type": "error",
     "traceback": [
      "\u001b[31m---------------------------------------------------------------------------\u001b[39m",
      "\u001b[31mNameError\u001b[39m                                 Traceback (most recent call last)",
      "\u001b[36mCell\u001b[39m\u001b[36m \u001b[39m\u001b[32mIn[6]\u001b[39m\u001b[32m, line 2\u001b[39m\n\u001b[32m      1\u001b[39m \u001b[38;5;66;03m# now if i delete welcome function what is output of wel function??\u001b[39;00m\n\u001b[32m----> \u001b[39m\u001b[32m2\u001b[39m \u001b[38;5;28;01mdel\u001b[39;00m \u001b[43mwelcome\u001b[49m\n\u001b[32m      3\u001b[39m \u001b[38;5;28mprint\u001b[39m(wel())\n",
      "\u001b[31mNameError\u001b[39m: name 'welcome' is not defined"
     ]
    }
   ],
   "source": [
    "# now if i delete welcome function what is output of wel function??\n",
    "del welcome\n",
    "print(wel())\n",
    " "
   ]
  },
  {
   "cell_type": "code",
   "execution_count": 9,
   "id": "4472764a",
   "metadata": {},
   "outputs": [
    {
     "name": "stdout",
     "output_type": "stream",
     "text": [
      "welcome to the advance python course\n",
      "please learn these concept properly\n"
     ]
    }
   ],
   "source": [
    "## closures\n",
    "#closers are nothing its function inside function\n",
    "def main_welcome():\n",
    "    msg=\"welcome\"\n",
    "    def sub_welcome_method():\n",
    "        print(\"welcome to the advance python course\")\n",
    "        \n",
    "        print(\"please learn these concept properly\")\n",
    "    return sub_welcome_method()\n",
    "main_welcome()  "
   ]
  },
  {
   "cell_type": "code",
   "execution_count": 10,
   "id": "ebb1adc5",
   "metadata": {},
   "outputs": [
    {
     "name": "stdout",
     "output_type": "stream",
     "text": [
      "welcome to the advance python course\n",
      "welcome everyone\n",
      "please learn these concept properly\n"
     ]
    }
   ],
   "source": [
    "def main_welcome(msg):\n",
    "    def sub_welcome_method():\n",
    "        print(\"welcome to the advance python course\")\n",
    "        print(msg)\n",
    "        print(\"please learn these concept properly\")\n",
    "    return sub_welcome_method()\n",
    "main_welcome(\"welcome everyone\") "
   ]
  },
  {
   "cell_type": "code",
   "execution_count": 11,
   "id": "f1a49e79",
   "metadata": {},
   "outputs": [
    {
     "name": "stdout",
     "output_type": "stream",
     "text": [
      "welcome to the advance python course\n",
      "\n",
      "None\n",
      "welcome everyone learn and grow\n",
      "please learn these concept properly\n"
     ]
    }
   ],
   "source": [
    "def main_welcome(func):\n",
    "    def sub_welcome_method():\n",
    "        print(\"welcome to the advance python course\")\n",
    "        print(func())\n",
    "        func(\"welcome everyone learn and grow\")\n",
    "        print(\"please learn these concept properly\")\n",
    "    return sub_welcome_method()\n",
    "main_welcome(print) "
   ]
  },
  {
   "cell_type": "code",
   "execution_count": 12,
   "id": "735258b3",
   "metadata": {},
   "outputs": [],
   "source": [
    "def main_welcome(func,lst):\n",
    "    def sub_welcome_method():\n",
    "        print(\"welcome to the advance python course\")\n",
    "        print(func(lst))\n",
    "        func(\"welcome everyone learn and grow\")\n",
    "        print(\"please learn these concept properly\")\n",
    "    return sub_welcome_method()\n"
   ]
  },
  {
   "cell_type": "code",
   "execution_count": 33,
   "id": "750a600e",
   "metadata": {},
   "outputs": [
    {
     "name": "stdout",
     "output_type": "stream",
     "text": [
      "welcome to the advance python course\n",
      "6\n",
      "please learn these concept properly\n"
     ]
    }
   ],
   "source": [
    "main_welcome(len,[1,2,3,4,5,6])"
   ]
  },
  {
   "cell_type": "code",
   "execution_count": 34,
   "id": "80894cc5",
   "metadata": {},
   "outputs": [],
   "source": [
    "#decorator \n",
    "def main_welcome(func):\n",
    "    \n",
    "    def sub_welcome_method():\n",
    "        print(\"welcome to advance python course\")\n",
    "        func()\n",
    "        print(\"please learn these concepts properly\")\n",
    "    return sub_welcome_method()\n"
   ]
  },
  {
   "cell_type": "code",
   "execution_count": 35,
   "id": "15668502",
   "metadata": {},
   "outputs": [
    {
     "name": "stdout",
     "output_type": "stream",
     "text": [
      "This is an advanced python course\n"
     ]
    }
   ],
   "source": [
    "def course_introduction():\n",
    "    print(\"This is an advanced python course\")\n",
    "course_introduction()"
   ]
  },
  {
   "cell_type": "code",
   "execution_count": null,
   "id": "bc7a964e",
   "metadata": {},
   "outputs": [
    {
     "name": "stdout",
     "output_type": "stream",
     "text": [
      "welcome to advance python course\n",
      "This is an advanced python course\n",
      "please learn these concepts properly\n"
     ]
    }
   ],
   "source": [
    "main_welcome(course_introduction)  # i am calling course_introduction inside main_welcome\n"
   ]
  },
  {
   "cell_type": "code",
   "execution_count": null,
   "id": "f699e8de",
   "metadata": {},
   "outputs": [
    {
     "name": "stdout",
     "output_type": "stream",
     "text": [
      "welcome to advance python course\n",
      "This is an advanced python course\n",
      "please learn these concepts properly\n"
     ]
    }
   ],
   "source": [
    "# how to used for decorator \n",
    "@main_welcome\n",
    "def course_introduction():\n",
    "    print(\"This is an advanced python course\")\n",
    "\n",
    "# we are not changing and adding thing \n"
   ]
  },
  {
   "cell_type": "code",
   "execution_count": 1,
   "id": "6c6e67fb",
   "metadata": {},
   "outputs": [],
   "source": [
    "\n",
    "## Decorator\n",
    "\n",
    "def my_decorator(func):\n",
    "    def wrapper():\n",
    "        print(\"Something is happening before the function is called.\")\n",
    "        func()\n",
    "        print(\"Something is happening after the function is called.\")\n",
    "    return wrapper"
   ]
  },
  {
   "cell_type": "code",
   "execution_count": 2,
   "id": "258e553a",
   "metadata": {},
   "outputs": [],
   "source": [
    "@my_decorator\n",
    "def say_hello():\n",
    "    print(\"Hello!\")"
   ]
  },
  {
   "cell_type": "code",
   "execution_count": 3,
   "id": "67568891",
   "metadata": {},
   "outputs": [
    {
     "name": "stdout",
     "output_type": "stream",
     "text": [
      "Something is happening before the function is called.\n",
      "Hello!\n",
      "Something is happening after the function is called.\n"
     ]
    }
   ],
   "source": [
    "say_hello()"
   ]
  },
  {
   "cell_type": "code",
   "execution_count": 5,
   "id": "6d3cb01f",
   "metadata": {},
   "outputs": [],
   "source": [
    "\n",
    "## Decorators WWith arguments\n",
    "def repeat(n):\n",
    "    def decorator(func):\n",
    "        def wrapper(*args, **kwargs):\n",
    "            for _ in range(n):\n",
    "                func(*args, **kwargs)\n",
    "        return wrapper\n",
    "    return decorator"
   ]
  },
  {
   "cell_type": "code",
   "execution_count": 6,
   "id": "e31a2907",
   "metadata": {},
   "outputs": [],
   "source": [
    "\n",
    "@repeat(3)\n",
    "def say_hello():\n",
    "    print(\"Hello\")"
   ]
  },
  {
   "cell_type": "code",
   "execution_count": 7,
   "id": "377f65fd",
   "metadata": {},
   "outputs": [
    {
     "name": "stdout",
     "output_type": "stream",
     "text": [
      "Hello\n",
      "Hello\n",
      "Hello\n"
     ]
    }
   ],
   "source": [
    "say_hello()"
   ]
  },
  {
   "cell_type": "markdown",
   "id": "82c13581",
   "metadata": {},
   "source": [
    "\n",
    "## Conclusion\n",
    "Decorators are a powerful tool in Python for extending and modifying the behavior of functions and methods. They provide a clean and readable way to add functionality such as logging, timing, access control, and more without changing the original code. Understanding and using decorators effectively can significantly enhance your Python programming skills."
   ]
  }
 ],
 "metadata": {
  "kernelspec": {
   "display_name": "Python 3",
   "language": "python",
   "name": "python3"
  },
  "language_info": {
   "codemirror_mode": {
    "name": "ipython",
    "version": 3
   },
   "file_extension": ".py",
   "mimetype": "text/x-python",
   "name": "python",
   "nbconvert_exporter": "python",
   "pygments_lexer": "ipython3",
   "version": "3.13.4"
  }
 },
 "nbformat": 4,
 "nbformat_minor": 5
}
